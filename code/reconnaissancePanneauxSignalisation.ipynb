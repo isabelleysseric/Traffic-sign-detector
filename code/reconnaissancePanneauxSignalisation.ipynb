{
  "nbformat": 4,
  "nbformat_minor": 0,
  "metadata": {
    "colab": {
      "name": "traffic-sign-detection.ipynb",
      "provenance": [],
      "collapsed_sections": []
    },
    "kernelspec": {
      "display_name": "Python 3",
      "name": "python3"
    },
    "accelerator": "GPU",
    "widgets": {
      "application/vnd.jupyter.widget-state+json": {
        "808a28fbcca2438c93a05db4ecafca20": {
          "model_module": "@jupyter-widgets/controls",
          "model_name": "HBoxModel",
          "state": {
            "_view_name": "HBoxView",
            "_dom_classes": [],
            "_model_name": "HBoxModel",
            "_view_module": "@jupyter-widgets/controls",
            "_model_module_version": "1.5.0",
            "_view_count": null,
            "_view_module_version": "1.5.0",
            "box_style": "",
            "layout": "IPY_MODEL_a33369c9b9ee4d6c8babfd2fa22879fc",
            "_model_module": "@jupyter-widgets/controls",
            "children": [
              "IPY_MODEL_69615fa374af43619a2b1d4fdcfc7793",
              "IPY_MODEL_7462e0a0af8849d5aab1f586fee85643"
            ]
          }
        },
        "a33369c9b9ee4d6c8babfd2fa22879fc": {
          "model_module": "@jupyter-widgets/base",
          "model_name": "LayoutModel",
          "state": {
            "_view_name": "LayoutView",
            "grid_template_rows": null,
            "right": null,
            "justify_content": null,
            "_view_module": "@jupyter-widgets/base",
            "overflow": null,
            "_model_module_version": "1.2.0",
            "_view_count": null,
            "flex_flow": null,
            "width": null,
            "min_width": null,
            "border": null,
            "align_items": null,
            "bottom": null,
            "_model_module": "@jupyter-widgets/base",
            "top": null,
            "grid_column": null,
            "overflow_y": null,
            "overflow_x": null,
            "grid_auto_flow": null,
            "grid_area": null,
            "grid_template_columns": null,
            "flex": null,
            "_model_name": "LayoutModel",
            "justify_items": null,
            "grid_row": null,
            "max_height": null,
            "align_content": null,
            "visibility": null,
            "align_self": null,
            "height": null,
            "min_height": null,
            "padding": null,
            "grid_auto_rows": null,
            "grid_gap": null,
            "max_width": null,
            "order": null,
            "_view_module_version": "1.2.0",
            "grid_template_areas": null,
            "object_position": null,
            "object_fit": null,
            "grid_auto_columns": null,
            "margin": null,
            "display": null,
            "left": null
          }
        },
        "69615fa374af43619a2b1d4fdcfc7793": {
          "model_module": "@jupyter-widgets/controls",
          "model_name": "FloatProgressModel",
          "state": {
            "_view_name": "ProgressView",
            "style": "IPY_MODEL_60d80710221c4fc7a7c48558c011e8a2",
            "_dom_classes": [],
            "description": "Download GTSRBSelection Dataset: 100%",
            "_model_name": "FloatProgressModel",
            "bar_style": "success",
            "max": 182439,
            "_view_module": "@jupyter-widgets/controls",
            "_model_module_version": "1.5.0",
            "value": 182439,
            "_view_count": null,
            "_view_module_version": "1.5.0",
            "orientation": "horizontal",
            "min": 0,
            "description_tooltip": null,
            "_model_module": "@jupyter-widgets/controls",
            "layout": "IPY_MODEL_bff00b3c435d4ecea9670f1e8aa7d3e3"
          }
        },
        "7462e0a0af8849d5aab1f586fee85643": {
          "model_module": "@jupyter-widgets/controls",
          "model_name": "HTMLModel",
          "state": {
            "_view_name": "HTMLView",
            "style": "IPY_MODEL_ab66abcbb24c4dc8981fe3c8bae0b329",
            "_dom_classes": [],
            "description": "",
            "_model_name": "HTMLModel",
            "placeholder": "​",
            "_view_module": "@jupyter-widgets/controls",
            "_model_module_version": "1.5.0",
            "value": " 182439/182439 [00:00&lt;00:00, 763280.40it/s]",
            "_view_count": null,
            "_view_module_version": "1.5.0",
            "description_tooltip": null,
            "_model_module": "@jupyter-widgets/controls",
            "layout": "IPY_MODEL_958bdc753a1948979d8c9993db8286f7"
          }
        },
        "60d80710221c4fc7a7c48558c011e8a2": {
          "model_module": "@jupyter-widgets/controls",
          "model_name": "ProgressStyleModel",
          "state": {
            "_view_name": "StyleView",
            "_model_name": "ProgressStyleModel",
            "description_width": "initial",
            "_view_module": "@jupyter-widgets/base",
            "_model_module_version": "1.5.0",
            "_view_count": null,
            "_view_module_version": "1.2.0",
            "bar_color": null,
            "_model_module": "@jupyter-widgets/controls"
          }
        },
        "bff00b3c435d4ecea9670f1e8aa7d3e3": {
          "model_module": "@jupyter-widgets/base",
          "model_name": "LayoutModel",
          "state": {
            "_view_name": "LayoutView",
            "grid_template_rows": null,
            "right": null,
            "justify_content": null,
            "_view_module": "@jupyter-widgets/base",
            "overflow": null,
            "_model_module_version": "1.2.0",
            "_view_count": null,
            "flex_flow": null,
            "width": null,
            "min_width": null,
            "border": null,
            "align_items": null,
            "bottom": null,
            "_model_module": "@jupyter-widgets/base",
            "top": null,
            "grid_column": null,
            "overflow_y": null,
            "overflow_x": null,
            "grid_auto_flow": null,
            "grid_area": null,
            "grid_template_columns": null,
            "flex": null,
            "_model_name": "LayoutModel",
            "justify_items": null,
            "grid_row": null,
            "max_height": null,
            "align_content": null,
            "visibility": null,
            "align_self": null,
            "height": null,
            "min_height": null,
            "padding": null,
            "grid_auto_rows": null,
            "grid_gap": null,
            "max_width": null,
            "order": null,
            "_view_module_version": "1.2.0",
            "grid_template_areas": null,
            "object_position": null,
            "object_fit": null,
            "grid_auto_columns": null,
            "margin": null,
            "display": null,
            "left": null
          }
        },
        "ab66abcbb24c4dc8981fe3c8bae0b329": {
          "model_module": "@jupyter-widgets/controls",
          "model_name": "DescriptionStyleModel",
          "state": {
            "_view_name": "StyleView",
            "_model_name": "DescriptionStyleModel",
            "description_width": "",
            "_view_module": "@jupyter-widgets/base",
            "_model_module_version": "1.5.0",
            "_view_count": null,
            "_view_module_version": "1.2.0",
            "_model_module": "@jupyter-widgets/controls"
          }
        },
        "958bdc753a1948979d8c9993db8286f7": {
          "model_module": "@jupyter-widgets/base",
          "model_name": "LayoutModel",
          "state": {
            "_view_name": "LayoutView",
            "grid_template_rows": null,
            "right": null,
            "justify_content": null,
            "_view_module": "@jupyter-widgets/base",
            "overflow": null,
            "_model_module_version": "1.2.0",
            "_view_count": null,
            "flex_flow": null,
            "width": null,
            "min_width": null,
            "border": null,
            "align_items": null,
            "bottom": null,
            "_model_module": "@jupyter-widgets/base",
            "top": null,
            "grid_column": null,
            "overflow_y": null,
            "overflow_x": null,
            "grid_auto_flow": null,
            "grid_area": null,
            "grid_template_columns": null,
            "flex": null,
            "_model_name": "LayoutModel",
            "justify_items": null,
            "grid_row": null,
            "max_height": null,
            "align_content": null,
            "visibility": null,
            "align_self": null,
            "height": null,
            "min_height": null,
            "padding": null,
            "grid_auto_rows": null,
            "grid_gap": null,
            "max_width": null,
            "order": null,
            "_view_module_version": "1.2.0",
            "grid_template_areas": null,
            "object_position": null,
            "object_fit": null,
            "grid_auto_columns": null,
            "margin": null,
            "display": null,
            "left": null
          }
        },
        "c1d9ed8db8c5402d88a2393b99003796": {
          "model_module": "@jupyter-widgets/controls",
          "model_name": "HBoxModel",
          "state": {
            "_view_name": "HBoxView",
            "_dom_classes": [],
            "_model_name": "HBoxModel",
            "_view_module": "@jupyter-widgets/controls",
            "_model_module_version": "1.5.0",
            "_view_count": null,
            "_view_module_version": "1.5.0",
            "box_style": "",
            "layout": "IPY_MODEL_1be426d0787c4dc28c2e832e309e277a",
            "_model_module": "@jupyter-widgets/controls",
            "children": [
              "IPY_MODEL_911a0667519f44fa9d5c93e1072ac354",
              "IPY_MODEL_68fa8b0989fc4903b533aeffa452644b"
            ]
          }
        },
        "1be426d0787c4dc28c2e832e309e277a": {
          "model_module": "@jupyter-widgets/base",
          "model_name": "LayoutModel",
          "state": {
            "_view_name": "LayoutView",
            "grid_template_rows": null,
            "right": null,
            "justify_content": null,
            "_view_module": "@jupyter-widgets/base",
            "overflow": null,
            "_model_module_version": "1.2.0",
            "_view_count": null,
            "flex_flow": null,
            "width": null,
            "min_width": null,
            "border": null,
            "align_items": null,
            "bottom": null,
            "_model_module": "@jupyter-widgets/base",
            "top": null,
            "grid_column": null,
            "overflow_y": null,
            "overflow_x": null,
            "grid_auto_flow": null,
            "grid_area": null,
            "grid_template_columns": null,
            "flex": null,
            "_model_name": "LayoutModel",
            "justify_items": null,
            "grid_row": null,
            "max_height": null,
            "align_content": null,
            "visibility": null,
            "align_self": null,
            "height": null,
            "min_height": null,
            "padding": null,
            "grid_auto_rows": null,
            "grid_gap": null,
            "max_width": null,
            "order": null,
            "_view_module_version": "1.2.0",
            "grid_template_areas": null,
            "object_position": null,
            "object_fit": null,
            "grid_auto_columns": null,
            "margin": null,
            "display": null,
            "left": null
          }
        },
        "911a0667519f44fa9d5c93e1072ac354": {
          "model_module": "@jupyter-widgets/controls",
          "model_name": "FloatProgressModel",
          "state": {
            "_view_name": "ProgressView",
            "style": "IPY_MODEL_d5849acc1a07430183627846bfe277b4",
            "_dom_classes": [],
            "description": "100%",
            "_model_name": "FloatProgressModel",
            "bar_style": "success",
            "max": 87306240,
            "_view_module": "@jupyter-widgets/controls",
            "_model_module_version": "1.5.0",
            "value": 87306240,
            "_view_count": null,
            "_view_module_version": "1.5.0",
            "orientation": "horizontal",
            "min": 0,
            "description_tooltip": null,
            "_model_module": "@jupyter-widgets/controls",
            "layout": "IPY_MODEL_64336745060d49f084a917c148274d4e"
          }
        },
        "68fa8b0989fc4903b533aeffa452644b": {
          "model_module": "@jupyter-widgets/controls",
          "model_name": "HTMLModel",
          "state": {
            "_view_name": "HTMLView",
            "style": "IPY_MODEL_71dae41334fe43e388992e71759c6e8e",
            "_dom_classes": [],
            "description": "",
            "_model_name": "HTMLModel",
            "placeholder": "​",
            "_view_module": "@jupyter-widgets/controls",
            "_model_module_version": "1.5.0",
            "value": " 83.3M/83.3M [03:39&lt;00:00, 397kB/s]",
            "_view_count": null,
            "_view_module_version": "1.5.0",
            "description_tooltip": null,
            "_model_module": "@jupyter-widgets/controls",
            "layout": "IPY_MODEL_23777355b4b549d8aade762e4fdec3ca"
          }
        },
        "d5849acc1a07430183627846bfe277b4": {
          "model_module": "@jupyter-widgets/controls",
          "model_name": "ProgressStyleModel",
          "state": {
            "_view_name": "StyleView",
            "_model_name": "ProgressStyleModel",
            "description_width": "initial",
            "_view_module": "@jupyter-widgets/base",
            "_model_module_version": "1.5.0",
            "_view_count": null,
            "_view_module_version": "1.2.0",
            "bar_color": null,
            "_model_module": "@jupyter-widgets/controls"
          }
        },
        "64336745060d49f084a917c148274d4e": {
          "model_module": "@jupyter-widgets/base",
          "model_name": "LayoutModel",
          "state": {
            "_view_name": "LayoutView",
            "grid_template_rows": null,
            "right": null,
            "justify_content": null,
            "_view_module": "@jupyter-widgets/base",
            "overflow": null,
            "_model_module_version": "1.2.0",
            "_view_count": null,
            "flex_flow": null,
            "width": null,
            "min_width": null,
            "border": null,
            "align_items": null,
            "bottom": null,
            "_model_module": "@jupyter-widgets/base",
            "top": null,
            "grid_column": null,
            "overflow_y": null,
            "overflow_x": null,
            "grid_auto_flow": null,
            "grid_area": null,
            "grid_template_columns": null,
            "flex": null,
            "_model_name": "LayoutModel",
            "justify_items": null,
            "grid_row": null,
            "max_height": null,
            "align_content": null,
            "visibility": null,
            "align_self": null,
            "height": null,
            "min_height": null,
            "padding": null,
            "grid_auto_rows": null,
            "grid_gap": null,
            "max_width": null,
            "order": null,
            "_view_module_version": "1.2.0",
            "grid_template_areas": null,
            "object_position": null,
            "object_fit": null,
            "grid_auto_columns": null,
            "margin": null,
            "display": null,
            "left": null
          }
        },
        "71dae41334fe43e388992e71759c6e8e": {
          "model_module": "@jupyter-widgets/controls",
          "model_name": "DescriptionStyleModel",
          "state": {
            "_view_name": "StyleView",
            "_model_name": "DescriptionStyleModel",
            "description_width": "",
            "_view_module": "@jupyter-widgets/base",
            "_model_module_version": "1.5.0",
            "_view_count": null,
            "_view_module_version": "1.2.0",
            "_model_module": "@jupyter-widgets/controls"
          }
        },
        "23777355b4b549d8aade762e4fdec3ca": {
          "model_module": "@jupyter-widgets/base",
          "model_name": "LayoutModel",
          "state": {
            "_view_name": "LayoutView",
            "grid_template_rows": null,
            "right": null,
            "justify_content": null,
            "_view_module": "@jupyter-widgets/base",
            "overflow": null,
            "_model_module_version": "1.2.0",
            "_view_count": null,
            "flex_flow": null,
            "width": null,
            "min_width": null,
            "border": null,
            "align_items": null,
            "bottom": null,
            "_model_module": "@jupyter-widgets/base",
            "top": null,
            "grid_column": null,
            "overflow_y": null,
            "overflow_x": null,
            "grid_auto_flow": null,
            "grid_area": null,
            "grid_template_columns": null,
            "flex": null,
            "_model_name": "LayoutModel",
            "justify_items": null,
            "grid_row": null,
            "max_height": null,
            "align_content": null,
            "visibility": null,
            "align_self": null,
            "height": null,
            "min_height": null,
            "padding": null,
            "grid_auto_rows": null,
            "grid_gap": null,
            "max_width": null,
            "order": null,
            "_view_module_version": "1.2.0",
            "grid_template_areas": null,
            "object_position": null,
            "object_fit": null,
            "grid_auto_columns": null,
            "margin": null,
            "display": null,
            "left": null
          }
        },
        "1062f025272c4f25809962795c026e8b": {
          "model_module": "@jupyter-widgets/controls",
          "model_name": "HBoxModel",
          "state": {
            "_view_name": "HBoxView",
            "_dom_classes": [],
            "_model_name": "HBoxModel",
            "_view_module": "@jupyter-widgets/controls",
            "_model_module_version": "1.5.0",
            "_view_count": null,
            "_view_module_version": "1.5.0",
            "box_style": "",
            "layout": "IPY_MODEL_a6e95014b5244f169a26b960d0bda72a",
            "_model_module": "@jupyter-widgets/controls",
            "children": [
              "IPY_MODEL_b7e3216ee0fd475f92326baa95306dba",
              "IPY_MODEL_ea8ff50e8cd44bc881cafc756e699033"
            ]
          }
        },
        "a6e95014b5244f169a26b960d0bda72a": {
          "model_module": "@jupyter-widgets/base",
          "model_name": "LayoutModel",
          "state": {
            "_view_name": "LayoutView",
            "grid_template_rows": null,
            "right": null,
            "justify_content": null,
            "_view_module": "@jupyter-widgets/base",
            "overflow": null,
            "_model_module_version": "1.2.0",
            "_view_count": null,
            "flex_flow": null,
            "width": null,
            "min_width": null,
            "border": null,
            "align_items": null,
            "bottom": null,
            "_model_module": "@jupyter-widgets/base",
            "top": null,
            "grid_column": null,
            "overflow_y": null,
            "overflow_x": null,
            "grid_auto_flow": null,
            "grid_area": null,
            "grid_template_columns": null,
            "flex": null,
            "_model_name": "LayoutModel",
            "justify_items": null,
            "grid_row": null,
            "max_height": null,
            "align_content": null,
            "visibility": null,
            "align_self": null,
            "height": null,
            "min_height": null,
            "padding": null,
            "grid_auto_rows": null,
            "grid_gap": null,
            "max_width": null,
            "order": null,
            "_view_module_version": "1.2.0",
            "grid_template_areas": null,
            "object_position": null,
            "object_fit": null,
            "grid_auto_columns": null,
            "margin": null,
            "display": null,
            "left": null
          }
        },
        "b7e3216ee0fd475f92326baa95306dba": {
          "model_module": "@jupyter-widgets/controls",
          "model_name": "FloatProgressModel",
          "state": {
            "_view_name": "ProgressView",
            "style": "IPY_MODEL_c299476afd094c12820e4a7e38b72ddd",
            "_dom_classes": [],
            "description": "Training...: ",
            "_model_name": "FloatProgressModel",
            "bar_style": "success",
            "max": 1680,
            "_view_module": "@jupyter-widgets/controls",
            "_model_module_version": "1.5.0",
            "value": 1680,
            "_view_count": null,
            "_view_module_version": "1.5.0",
            "orientation": "horizontal",
            "min": 0,
            "description_tooltip": null,
            "_model_module": "@jupyter-widgets/controls",
            "layout": "IPY_MODEL_1f5f81c46e774d389a672c85c857af00"
          }
        },
        "ea8ff50e8cd44bc881cafc756e699033": {
          "model_module": "@jupyter-widgets/controls",
          "model_name": "HTMLModel",
          "state": {
            "_view_name": "HTMLView",
            "style": "IPY_MODEL_45e7e8cb795c41b7953ecdf147b6beb6",
            "_dom_classes": [],
            "description": "",
            "_model_name": "HTMLModel",
            "placeholder": "​",
            "_view_module": "@jupyter-widgets/controls",
            "_model_module_version": "1.5.0",
            "value": " 1685/? [04:26&lt;00:00,  6.31it/s]",
            "_view_count": null,
            "_view_module_version": "1.5.0",
            "description_tooltip": null,
            "_model_module": "@jupyter-widgets/controls",
            "layout": "IPY_MODEL_bf0b237be3a8424d9a34867a8e08d6e2"
          }
        },
        "c299476afd094c12820e4a7e38b72ddd": {
          "model_module": "@jupyter-widgets/controls",
          "model_name": "ProgressStyleModel",
          "state": {
            "_view_name": "StyleView",
            "_model_name": "ProgressStyleModel",
            "description_width": "initial",
            "_view_module": "@jupyter-widgets/base",
            "_model_module_version": "1.5.0",
            "_view_count": null,
            "_view_module_version": "1.2.0",
            "bar_color": null,
            "_model_module": "@jupyter-widgets/controls"
          }
        },
        "1f5f81c46e774d389a672c85c857af00": {
          "model_module": "@jupyter-widgets/base",
          "model_name": "LayoutModel",
          "state": {
            "_view_name": "LayoutView",
            "grid_template_rows": null,
            "right": null,
            "justify_content": null,
            "_view_module": "@jupyter-widgets/base",
            "overflow": null,
            "_model_module_version": "1.2.0",
            "_view_count": null,
            "flex_flow": null,
            "width": null,
            "min_width": null,
            "border": null,
            "align_items": null,
            "bottom": null,
            "_model_module": "@jupyter-widgets/base",
            "top": null,
            "grid_column": null,
            "overflow_y": null,
            "overflow_x": null,
            "grid_auto_flow": null,
            "grid_area": null,
            "grid_template_columns": null,
            "flex": null,
            "_model_name": "LayoutModel",
            "justify_items": null,
            "grid_row": null,
            "max_height": null,
            "align_content": null,
            "visibility": null,
            "align_self": null,
            "height": null,
            "min_height": null,
            "padding": null,
            "grid_auto_rows": null,
            "grid_gap": null,
            "max_width": null,
            "order": null,
            "_view_module_version": "1.2.0",
            "grid_template_areas": null,
            "object_position": null,
            "object_fit": null,
            "grid_auto_columns": null,
            "margin": null,
            "display": null,
            "left": null
          }
        },
        "45e7e8cb795c41b7953ecdf147b6beb6": {
          "model_module": "@jupyter-widgets/controls",
          "model_name": "DescriptionStyleModel",
          "state": {
            "_view_name": "StyleView",
            "_model_name": "DescriptionStyleModel",
            "description_width": "",
            "_view_module": "@jupyter-widgets/base",
            "_model_module_version": "1.5.0",
            "_view_count": null,
            "_view_module_version": "1.2.0",
            "_model_module": "@jupyter-widgets/controls"
          }
        },
        "bf0b237be3a8424d9a34867a8e08d6e2": {
          "model_module": "@jupyter-widgets/base",
          "model_name": "LayoutModel",
          "state": {
            "_view_name": "LayoutView",
            "grid_template_rows": null,
            "right": null,
            "justify_content": null,
            "_view_module": "@jupyter-widgets/base",
            "overflow": null,
            "_model_module_version": "1.2.0",
            "_view_count": null,
            "flex_flow": null,
            "width": null,
            "min_width": null,
            "border": null,
            "align_items": null,
            "bottom": null,
            "_model_module": "@jupyter-widgets/base",
            "top": null,
            "grid_column": null,
            "overflow_y": null,
            "overflow_x": null,
            "grid_auto_flow": null,
            "grid_area": null,
            "grid_template_columns": null,
            "flex": null,
            "_model_name": "LayoutModel",
            "justify_items": null,
            "grid_row": null,
            "max_height": null,
            "align_content": null,
            "visibility": null,
            "align_self": null,
            "height": null,
            "min_height": null,
            "padding": null,
            "grid_auto_rows": null,
            "grid_gap": null,
            "max_width": null,
            "order": null,
            "_view_module_version": "1.2.0",
            "grid_template_areas": null,
            "object_position": null,
            "object_fit": null,
            "grid_auto_columns": null,
            "margin": null,
            "display": null,
            "left": null
          }
        },
        "ebbb7cba7b544a7f8822f3260e099ae5": {
          "model_module": "@jupyter-widgets/controls",
          "model_name": "HBoxModel",
          "state": {
            "_view_name": "HBoxView",
            "_dom_classes": [],
            "_model_name": "HBoxModel",
            "_view_module": "@jupyter-widgets/controls",
            "_model_module_version": "1.5.0",
            "_view_count": null,
            "_view_module_version": "1.5.0",
            "box_style": "",
            "layout": "IPY_MODEL_d29d0f3b16e54633967d71432de6b6f6",
            "_model_module": "@jupyter-widgets/controls",
            "children": [
              "IPY_MODEL_116ab9c3ae9b4770b865182e82d7b7ad",
              "IPY_MODEL_d015ad57169046c0aaf2ccfbad5d5aa8"
            ]
          }
        },
        "d29d0f3b16e54633967d71432de6b6f6": {
          "model_module": "@jupyter-widgets/base",
          "model_name": "LayoutModel",
          "state": {
            "_view_name": "LayoutView",
            "grid_template_rows": null,
            "right": null,
            "justify_content": null,
            "_view_module": "@jupyter-widgets/base",
            "overflow": null,
            "_model_module_version": "1.2.0",
            "_view_count": null,
            "flex_flow": null,
            "width": null,
            "min_width": null,
            "border": null,
            "align_items": null,
            "bottom": null,
            "_model_module": "@jupyter-widgets/base",
            "top": null,
            "grid_column": null,
            "overflow_y": null,
            "overflow_x": null,
            "grid_auto_flow": null,
            "grid_area": null,
            "grid_template_columns": null,
            "flex": null,
            "_model_name": "LayoutModel",
            "justify_items": null,
            "grid_row": null,
            "max_height": null,
            "align_content": null,
            "visibility": null,
            "align_self": null,
            "height": null,
            "min_height": null,
            "padding": null,
            "grid_auto_rows": null,
            "grid_gap": null,
            "max_width": null,
            "order": null,
            "_view_module_version": "1.2.0",
            "grid_template_areas": null,
            "object_position": null,
            "object_fit": null,
            "grid_auto_columns": null,
            "margin": null,
            "display": null,
            "left": null
          }
        },
        "116ab9c3ae9b4770b865182e82d7b7ad": {
          "model_module": "@jupyter-widgets/controls",
          "model_name": "FloatProgressModel",
          "state": {
            "_view_name": "ProgressView",
            "style": "IPY_MODEL_12aacf76dbcd400580163475092ade1a",
            "_dom_classes": [],
            "description": "Download Donnees_Quebec Dataset: 100%",
            "_model_name": "FloatProgressModel",
            "bar_style": "success",
            "max": 19550,
            "_view_module": "@jupyter-widgets/controls",
            "_model_module_version": "1.5.0",
            "value": 19550,
            "_view_count": null,
            "_view_module_version": "1.5.0",
            "orientation": "horizontal",
            "min": 0,
            "description_tooltip": null,
            "_model_module": "@jupyter-widgets/controls",
            "layout": "IPY_MODEL_2d564227489b4e15abf0684b1c54f37a"
          }
        },
        "d015ad57169046c0aaf2ccfbad5d5aa8": {
          "model_module": "@jupyter-widgets/controls",
          "model_name": "HTMLModel",
          "state": {
            "_view_name": "HTMLView",
            "style": "IPY_MODEL_1b1371082def4074ac82e08b96b820ff",
            "_dom_classes": [],
            "description": "",
            "_model_name": "HTMLModel",
            "placeholder": "​",
            "_view_module": "@jupyter-widgets/controls",
            "_model_module_version": "1.5.0",
            "value": " 19550/19550 [00:00&lt;00:00, 319188.79it/s]",
            "_view_count": null,
            "_view_module_version": "1.5.0",
            "description_tooltip": null,
            "_model_module": "@jupyter-widgets/controls",
            "layout": "IPY_MODEL_e22019097ccd482f81109df0cd818c66"
          }
        },
        "12aacf76dbcd400580163475092ade1a": {
          "model_module": "@jupyter-widgets/controls",
          "model_name": "ProgressStyleModel",
          "state": {
            "_view_name": "StyleView",
            "_model_name": "ProgressStyleModel",
            "description_width": "initial",
            "_view_module": "@jupyter-widgets/base",
            "_model_module_version": "1.5.0",
            "_view_count": null,
            "_view_module_version": "1.2.0",
            "bar_color": null,
            "_model_module": "@jupyter-widgets/controls"
          }
        },
        "2d564227489b4e15abf0684b1c54f37a": {
          "model_module": "@jupyter-widgets/base",
          "model_name": "LayoutModel",
          "state": {
            "_view_name": "LayoutView",
            "grid_template_rows": null,
            "right": null,
            "justify_content": null,
            "_view_module": "@jupyter-widgets/base",
            "overflow": null,
            "_model_module_version": "1.2.0",
            "_view_count": null,
            "flex_flow": null,
            "width": null,
            "min_width": null,
            "border": null,
            "align_items": null,
            "bottom": null,
            "_model_module": "@jupyter-widgets/base",
            "top": null,
            "grid_column": null,
            "overflow_y": null,
            "overflow_x": null,
            "grid_auto_flow": null,
            "grid_area": null,
            "grid_template_columns": null,
            "flex": null,
            "_model_name": "LayoutModel",
            "justify_items": null,
            "grid_row": null,
            "max_height": null,
            "align_content": null,
            "visibility": null,
            "align_self": null,
            "height": null,
            "min_height": null,
            "padding": null,
            "grid_auto_rows": null,
            "grid_gap": null,
            "max_width": null,
            "order": null,
            "_view_module_version": "1.2.0",
            "grid_template_areas": null,
            "object_position": null,
            "object_fit": null,
            "grid_auto_columns": null,
            "margin": null,
            "display": null,
            "left": null
          }
        },
        "1b1371082def4074ac82e08b96b820ff": {
          "model_module": "@jupyter-widgets/controls",
          "model_name": "DescriptionStyleModel",
          "state": {
            "_view_name": "StyleView",
            "_model_name": "DescriptionStyleModel",
            "description_width": "",
            "_view_module": "@jupyter-widgets/base",
            "_model_module_version": "1.5.0",
            "_view_count": null,
            "_view_module_version": "1.2.0",
            "_model_module": "@jupyter-widgets/controls"
          }
        },
        "e22019097ccd482f81109df0cd818c66": {
          "model_module": "@jupyter-widgets/base",
          "model_name": "LayoutModel",
          "state": {
            "_view_name": "LayoutView",
            "grid_template_rows": null,
            "right": null,
            "justify_content": null,
            "_view_module": "@jupyter-widgets/base",
            "overflow": null,
            "_model_module_version": "1.2.0",
            "_view_count": null,
            "flex_flow": null,
            "width": null,
            "min_width": null,
            "border": null,
            "align_items": null,
            "bottom": null,
            "_model_module": "@jupyter-widgets/base",
            "top": null,
            "grid_column": null,
            "overflow_y": null,
            "overflow_x": null,
            "grid_auto_flow": null,
            "grid_area": null,
            "grid_template_columns": null,
            "flex": null,
            "_model_name": "LayoutModel",
            "justify_items": null,
            "grid_row": null,
            "max_height": null,
            "align_content": null,
            "visibility": null,
            "align_self": null,
            "height": null,
            "min_height": null,
            "padding": null,
            "grid_auto_rows": null,
            "grid_gap": null,
            "max_width": null,
            "order": null,
            "_view_module_version": "1.2.0",
            "grid_template_areas": null,
            "object_position": null,
            "object_fit": null,
            "grid_auto_columns": null,
            "margin": null,
            "display": null,
            "left": null
          }
        },
        "918ff989b2b140888afe1e75cd601dbf": {
          "model_module": "@jupyter-widgets/controls",
          "model_name": "HBoxModel",
          "state": {
            "_view_name": "HBoxView",
            "_dom_classes": [],
            "_model_name": "HBoxModel",
            "_view_module": "@jupyter-widgets/controls",
            "_model_module_version": "1.5.0",
            "_view_count": null,
            "_view_module_version": "1.5.0",
            "box_style": "",
            "layout": "IPY_MODEL_d2efd7bd9af34859a71144cf67c9403e",
            "_model_module": "@jupyter-widgets/controls",
            "children": [
              "IPY_MODEL_7a88c5147dc54336a84392b6427d4f77",
              "IPY_MODEL_6a45c100342342828b7714aac983e98e"
            ]
          }
        },
        "d2efd7bd9af34859a71144cf67c9403e": {
          "model_module": "@jupyter-widgets/base",
          "model_name": "LayoutModel",
          "state": {
            "_view_name": "LayoutView",
            "grid_template_rows": null,
            "right": null,
            "justify_content": null,
            "_view_module": "@jupyter-widgets/base",
            "overflow": null,
            "_model_module_version": "1.2.0",
            "_view_count": null,
            "flex_flow": null,
            "width": null,
            "min_width": null,
            "border": null,
            "align_items": null,
            "bottom": null,
            "_model_module": "@jupyter-widgets/base",
            "top": null,
            "grid_column": null,
            "overflow_y": null,
            "overflow_x": null,
            "grid_auto_flow": null,
            "grid_area": null,
            "grid_template_columns": null,
            "flex": null,
            "_model_name": "LayoutModel",
            "justify_items": null,
            "grid_row": null,
            "max_height": null,
            "align_content": null,
            "visibility": null,
            "align_self": null,
            "height": null,
            "min_height": null,
            "padding": null,
            "grid_auto_rows": null,
            "grid_gap": null,
            "max_width": null,
            "order": null,
            "_view_module_version": "1.2.0",
            "grid_template_areas": null,
            "object_position": null,
            "object_fit": null,
            "grid_auto_columns": null,
            "margin": null,
            "display": null,
            "left": null
          }
        },
        "7a88c5147dc54336a84392b6427d4f77": {
          "model_module": "@jupyter-widgets/controls",
          "model_name": "FloatProgressModel",
          "state": {
            "_view_name": "ProgressView",
            "style": "IPY_MODEL_cd65427ef00341828191a6b0aa17d0c5",
            "_dom_classes": [],
            "description": "Training...: ",
            "_model_name": "FloatProgressModel",
            "bar_style": "success",
            "max": 75,
            "_view_module": "@jupyter-widgets/controls",
            "_model_module_version": "1.5.0",
            "value": 75,
            "_view_count": null,
            "_view_module_version": "1.5.0",
            "orientation": "horizontal",
            "min": 0,
            "description_tooltip": null,
            "_model_module": "@jupyter-widgets/controls",
            "layout": "IPY_MODEL_046c7ac9ef904d3fa89c3959ac92e124"
          }
        },
        "6a45c100342342828b7714aac983e98e": {
          "model_module": "@jupyter-widgets/controls",
          "model_name": "HTMLModel",
          "state": {
            "_view_name": "HTMLView",
            "style": "IPY_MODEL_46bebc20060c43aba4bb83cc2aa602a6",
            "_dom_classes": [],
            "description": "",
            "_model_name": "HTMLModel",
            "placeholder": "​",
            "_view_module": "@jupyter-widgets/controls",
            "_model_module_version": "1.5.0",
            "value": " 80/? [00:14&lt;00:00,  5.60it/s]",
            "_view_count": null,
            "_view_module_version": "1.5.0",
            "description_tooltip": null,
            "_model_module": "@jupyter-widgets/controls",
            "layout": "IPY_MODEL_f35c62b450314e33856d4c946128fe1d"
          }
        },
        "cd65427ef00341828191a6b0aa17d0c5": {
          "model_module": "@jupyter-widgets/controls",
          "model_name": "ProgressStyleModel",
          "state": {
            "_view_name": "StyleView",
            "_model_name": "ProgressStyleModel",
            "description_width": "initial",
            "_view_module": "@jupyter-widgets/base",
            "_model_module_version": "1.5.0",
            "_view_count": null,
            "_view_module_version": "1.2.0",
            "bar_color": null,
            "_model_module": "@jupyter-widgets/controls"
          }
        },
        "046c7ac9ef904d3fa89c3959ac92e124": {
          "model_module": "@jupyter-widgets/base",
          "model_name": "LayoutModel",
          "state": {
            "_view_name": "LayoutView",
            "grid_template_rows": null,
            "right": null,
            "justify_content": null,
            "_view_module": "@jupyter-widgets/base",
            "overflow": null,
            "_model_module_version": "1.2.0",
            "_view_count": null,
            "flex_flow": null,
            "width": null,
            "min_width": null,
            "border": null,
            "align_items": null,
            "bottom": null,
            "_model_module": "@jupyter-widgets/base",
            "top": null,
            "grid_column": null,
            "overflow_y": null,
            "overflow_x": null,
            "grid_auto_flow": null,
            "grid_area": null,
            "grid_template_columns": null,
            "flex": null,
            "_model_name": "LayoutModel",
            "justify_items": null,
            "grid_row": null,
            "max_height": null,
            "align_content": null,
            "visibility": null,
            "align_self": null,
            "height": null,
            "min_height": null,
            "padding": null,
            "grid_auto_rows": null,
            "grid_gap": null,
            "max_width": null,
            "order": null,
            "_view_module_version": "1.2.0",
            "grid_template_areas": null,
            "object_position": null,
            "object_fit": null,
            "grid_auto_columns": null,
            "margin": null,
            "display": null,
            "left": null
          }
        },
        "46bebc20060c43aba4bb83cc2aa602a6": {
          "model_module": "@jupyter-widgets/controls",
          "model_name": "DescriptionStyleModel",
          "state": {
            "_view_name": "StyleView",
            "_model_name": "DescriptionStyleModel",
            "description_width": "",
            "_view_module": "@jupyter-widgets/base",
            "_model_module_version": "1.5.0",
            "_view_count": null,
            "_view_module_version": "1.2.0",
            "_model_module": "@jupyter-widgets/controls"
          }
        },
        "f35c62b450314e33856d4c946128fe1d": {
          "model_module": "@jupyter-widgets/base",
          "model_name": "LayoutModel",
          "state": {
            "_view_name": "LayoutView",
            "grid_template_rows": null,
            "right": null,
            "justify_content": null,
            "_view_module": "@jupyter-widgets/base",
            "overflow": null,
            "_model_module_version": "1.2.0",
            "_view_count": null,
            "flex_flow": null,
            "width": null,
            "min_width": null,
            "border": null,
            "align_items": null,
            "bottom": null,
            "_model_module": "@jupyter-widgets/base",
            "top": null,
            "grid_column": null,
            "overflow_y": null,
            "overflow_x": null,
            "grid_auto_flow": null,
            "grid_area": null,
            "grid_template_columns": null,
            "flex": null,
            "_model_name": "LayoutModel",
            "justify_items": null,
            "grid_row": null,
            "max_height": null,
            "align_content": null,
            "visibility": null,
            "align_self": null,
            "height": null,
            "min_height": null,
            "padding": null,
            "grid_auto_rows": null,
            "grid_gap": null,
            "max_width": null,
            "order": null,
            "_view_module_version": "1.2.0",
            "grid_template_areas": null,
            "object_position": null,
            "object_fit": null,
            "grid_auto_columns": null,
            "margin": null,
            "display": null,
            "left": null
          }
        }
      }
    }
  },
  "cells": [
    {
      "cell_type": "markdown",
      "metadata": {
        "id": "ytShUUeExM3Y"
      },
      "source": [
        "# Reconnaissance des panneaux de signalisation routière\r\n",
        "GIF-4001, GIF-7005 – Introduction à l'apprentissage automatique : Projet\r\n",
        "\r\n",
        "Jade Clouâtre – Isabelle Eysseric – Damien LaRocque – Benoit Verret"
      ]
    },
    {
      "cell_type": "markdown",
      "metadata": {
        "id": "eLzGfBeDGgYd"
      },
      "source": [
        "## Imports"
      ]
    },
    {
      "cell_type": "code",
      "metadata": {
        "id": "ZFWIuauTE7Jq"
      },
      "source": [
        "from os import listdir, mkdir\r\n",
        "from time import time\r\n",
        "from glob import glob\r\n",
        "from copy import deepcopy\r\n",
        "from pprint import pprint, pformat\r\n",
        "from typing import List, Tuple, Union, Dict\r\n",
        "from zipfile import ZipFile\r\n",
        "from pathlib import PurePath\r\n",
        "from os.path import isdir\r\n",
        "from requests import Response, get\r\n",
        "import numpy as np\r\n",
        "\r\n",
        "import torch\r\n",
        "import torch.nn as nn\r\n",
        "import torch.optim as optim\r\n",
        "import torch.nn.functional as F\r\n",
        "import torchvision.transforms as T\r\n",
        "from torch.optim import SGD, lr_scheduler\r\n",
        "from torch.utils.data import DataLoader, Dataset, random_split\r\n",
        "from torchvision import models\r\n",
        "from torchvision.datasets import ImageFolder\r\n",
        "\r\n",
        "from PIL import Image\r\n",
        "from matplotlib import pyplot as plt\r\n",
        "from sklearn.metrics import precision_recall_fscore_support\r\n",
        "\r\n",
        "# If use outside a notebook use :\r\n",
        "# from tqdm import tqdm, trange\r\n",
        "# instead of :\r\n",
        "from tqdm.notebook import tqdm, tnrange as trange"
      ],
      "execution_count": 1,
      "outputs": []
    },
    {
      "cell_type": "markdown",
      "metadata": {
        "id": "6SYAhROT7qSr"
      },
      "source": [
        "## Déclaration des constantes"
      ]
    },
    {
      "cell_type": "code",
      "metadata": {
        "id": "PiIBkWtrEA9b"
      },
      "source": [
        "DATASET_URL: str = \"https://github.com/GIF4101-GIF7005-Projet/traffic-sign-detector/raw/master/GTSRBSelection.zip\"\r\n",
        "DATASET_URL_QC: str = \"https://github.com/GIF4101-GIF7005-Projet/traffic-sign-detector/raw/master/Donnees_Quebec.zip\"\r\n",
        "\r\n",
        "DEVICE = torch.device('cuda') if torch.cuda.is_available() else torch.device('cpu')\r\n",
        "IS_COLAB_ENV: bool = False\r\n",
        "\r\n",
        "NUM_CLASSES: int = 43\r\n",
        "NUM_CLASSES_QC: int = 25\r\n",
        "\r\n",
        "SHUFFLE: bool = True\r\n",
        "NUM_WORKER: int = 4\r\n",
        "BATCH_SIZE: int = 32\r\n",
        "\r\n",
        "# Transformation values\r\n",
        "RESIZE_VALUE: int = 256\r\n",
        "CROP_VALUE: int = 224\r\n",
        "ROTATION_VALUE: int = 15\r\n",
        "STD_VALS: List[int]  = [int(0.229 * 255), int(0.224 * 255), int(0.225 * 255)]\r\n",
        "MEAN_VALS: List[int] = [int(0.485 * 255), int(0.456 * 255), int(0.406 * 255)]\r\n",
        "\r\n",
        "NB_EPOCH: int = 5\r\n",
        "MOMENTUM: float = 0.9\r\n",
        "LEARNING_RATE: float = 0.01"
      ],
      "execution_count": 2,
      "outputs": []
    },
    {
      "cell_type": "markdown",
      "metadata": {
        "id": "hC396tn_LZVy"
      },
      "source": [
        "## Fonctions utilitaires"
      ]
    },
    {
      "cell_type": "code",
      "metadata": {
        "id": "bT1hrZRzLciG"
      },
      "source": [
        "def download_dataset(dataset_url: str, zip_name: str):\r\n",
        "    \"\"\"Download Dataset\r\n",
        "\r\n",
        "    Download zipped dataset and unzipped it\r\n",
        "\r\n",
        "    Parameters\r\n",
        "    ----------\r\n",
        "    dataset_url : str\r\n",
        "        Dataset source URL\r\n",
        "    zip_name : str\r\n",
        "        Dataset zip filename destination\r\n",
        "    \"\"\"\r\n",
        "    res: Response = get(url=dataset_url, stream=True)\r\n",
        "\r\n",
        "    if res.status_code == 200:\r\n",
        "        with open(f\"{zip_name}.zip\", \"wb\") as handle:\r\n",
        "            for chunk in tqdm(\r\n",
        "                [c for c in res.iter_content(chunk_size=512)], desc=f\"Download {zip_name} Dataset\"\r\n",
        "            ):\r\n",
        "                if chunk:\r\n",
        "                    handle.write(chunk)\r\n",
        "    else:\r\n",
        "        res.raise_for_status()\r\n",
        "    with ZipFile(f\"{zip_name}.zip\") as zipd:\r\n",
        "        zipd.extractall()\r\n",
        "\r\n",
        "def breakpoint():\r\n",
        "    \"\"\"Python Debugger\r\n",
        "\r\n",
        "    Debug breakpoint functionnality for Python 3.6\r\n",
        "    \"\"\"\r\n",
        "    import pdb; pdb.set_trace()"
      ],
      "execution_count": 3,
      "outputs": []
    },
    {
      "cell_type": "markdown",
      "metadata": {
        "id": "dpjKjSspUdsj"
      },
      "source": [
        "## Fonctions d'affichage"
      ]
    },
    {
      "cell_type": "code",
      "metadata": {
        "id": "pRth4wlCUkqr"
      },
      "source": [
        "def bar_plot_train_test_accuracy_by_classe_id(train_accuracy, test_accuracy, prefix: str =\"\"):\r\n",
        "    \"\"\"Bar Plot illustrating Train and Test accuracy by Classe Id\r\n",
        "\r\n",
        "    Parameters\r\n",
        "    ----------\r\n",
        "    train_accuracy : ArrayLike\r\n",
        "        Train accuracy value by Classe Id\r\n",
        "    test_accuracy : ArrayLike\r\n",
        "        Train accuracy value by Classe Id\r\n",
        "    prefix : str\r\n",
        "        filename prefix\r\n",
        "\r\n",
        "    Raises\r\n",
        "    ------\r\n",
        "    AssertionError\r\n",
        "        Train and Test accuracy should have the same lenght.\r\n",
        "    \"\"\"\r\n",
        "    assert len(train_accuracy) == len(test_accuracy), \"Train and Test accuracy should have the same lenght, Train={len(train_accuracy)}, Test={len(test_accuracy)}\"\r\n",
        "    labels = list(range(len(train_accuracy)))\r\n",
        "\r\n",
        "    x = np.arange(len(labels)) # the label locations\r\n",
        "    width = 0.35 # the width of the bars\r\n",
        "\r\n",
        "    fig, ax = plt.subplots()\r\n",
        "    fig.set_size_inches(30, 12)\r\n",
        "\r\n",
        "    train = ax.bar(x - width/2, train_accuracy, width, label='Train')\r\n",
        "    test = ax.bar(x + width/2, test_accuracy, width, label='Test')\r\n",
        "\r\n",
        "    ax.set_ylabel('Accuracy', fontsize=\"x-large\")\r\n",
        "    ax.set_xlabel('Classe Id', fontsize=\"x-large\")\r\n",
        "    ax.set_title('Accuracy per Classe Id', fontsize=\"x-large\")\r\n",
        "    ax.set_xticks(x)\r\n",
        "    ax.set_xticklabels(labels)\r\n",
        "    ax.legend(fontsize=\"x-large\")\r\n",
        "\r\n",
        "    fig.tight_layout()\r\n",
        "    plt.savefig(f\"{prefix+'_' if prefix else prefix}bar_plot_train_test_accuracy_by_classe_id.png\", bbox_inches='tight')\r\n",
        "    plt.show()\r\n",
        "\r\n",
        "def bar_plot_accuracy_by_classe_id(accuracy, legend, prefix: str =\"\"):\r\n",
        "    \"\"\"Bar Plot illustrating Accuracy by Classe Id\r\n",
        "\r\n",
        "    Parameters\r\n",
        "    ----------\r\n",
        "    accuracy : ArrayLike\r\n",
        "        Accuracy value by Classe Id\r\n",
        "    legend : str\r\n",
        "        Legend for the accuracy elements\r\n",
        "    prefix : str\r\n",
        "        filename prefix\r\n",
        "    \"\"\"\r\n",
        "    labels = list(range(0, len(accuracy)))\r\n",
        "\r\n",
        "    x = np.arange(len(labels)) # the label locations\r\n",
        "    width = 0.70 # the width of the bars\r\n",
        "\r\n",
        "    fig, ax = plt.subplots()\r\n",
        "    fig.set_size_inches(20, 12)\r\n",
        "\r\n",
        "    acc = ax.bar(x, accuracy, width, label=legend)\r\n",
        "\r\n",
        "    ax.set_ylabel('Accuracy', fontsize=\"x-large\")\r\n",
        "    ax.set_xlabel('Classe Id', fontsize=\"x-large\")\r\n",
        "    ax.set_title('Accuracy per Classe Id', fontsize=\"x-large\")\r\n",
        "    ax.set_xticks(x)\r\n",
        "    ax.set_xticklabels(labels)\r\n",
        "    ax.legend(fontsize=\"x-large\")\r\n",
        "\r\n",
        "    fig.tight_layout()\r\n",
        "    plt.savefig(f\"{prefix+'_' if prefix else prefix}bar_plot_{legend.lower()}_accuracy_by_classe_id.png\", bbox_inches='tight')\r\n",
        "    plt.show()\r\n",
        "\r\n",
        "def hist_plot_dist_data_in_trainset(train_set, nb_classes: int = 43, prefix: str =\"\"):\r\n",
        "    \"\"\"Histrogramme Plot illustrating Training Data by Classe Id\r\n",
        "\r\n",
        "    Parameters\r\n",
        "    ----------\r\n",
        "    train_set : Dataset\r\n",
        "        Training Dataset\r\n",
        "    nb_classes : int\r\n",
        "       Number of Classe\r\n",
        "    prefix : str\r\n",
        "        filename prefix\r\n",
        "    \"\"\"\r\n",
        "    labels = list(range(nb_classes+1))\r\n",
        "\r\n",
        "    x = np.arange(len(labels)) # the label locations\r\n",
        "    width = 0.8 # the width of the bars\r\n",
        "\r\n",
        "    fig, ax = plt.subplots()\r\n",
        "    fig.set_size_inches(20, 12)\r\n",
        "    acc = ax.hist(train_set.__targets, bins=labels, align=\"left\", rwidth=width)\r\n",
        "\r\n",
        "    ax.set_ylabel('nb data', fontsize=\"x-large\")\r\n",
        "    ax.set_xlabel('Classe Id', fontsize=\"x-large\")\r\n",
        "    ax.set_title('Visualisation de la distribution des données dans le `train_set`', fontsize=\"x-large\")\r\n",
        "    ax.set_xticks(x[:-1])\r\n",
        "    ax.set_xticklabels(labels[:-1])\r\n",
        "\r\n",
        "    fig.tight_layout()\r\n",
        "    plt.savefig(f\"{prefix+'_' if prefix else prefix}hist_plot_dist_data_in_trainset.png\", bbox_inches='tight')\r\n",
        "    plt.show()\r\n",
        "\r\n",
        "def plot_loss_by_epoch(train_loss, val_loss, prefix: str =\"\"):\r\n",
        "    \"\"\"Plot illustrating Loss by Epoch\r\n",
        "\r\n",
        "    Parameters\r\n",
        "    ----------\r\n",
        "    train_loss : ArrayLike\r\n",
        "        Training loss per epoch\r\n",
        "    val_loss : ArrayLike\r\n",
        "        Validation loss per epoch\r\n",
        "    prefix : str\r\n",
        "        filename prefix\r\n",
        "    \"\"\"\r\n",
        "    epoch = list(range(1, len(train_loss)+1))\r\n",
        "\r\n",
        "    x = np.arange(len(epoch)) # the label locations\r\n",
        "\r\n",
        "    fig, ax = plt.subplots()\r\n",
        "    fig.set_size_inches(20, 12)\r\n",
        "    acc = ax.plot(x, train_loss, color='b', label=\"Train loss\")\r\n",
        "    acc = ax.plot(x, val_loss, color='g', label=\"Val loss\")\r\n",
        "\r\n",
        "    ax.set_ylabel('Loss', fontsize=\"x-large\")\r\n",
        "    ax.set_xlabel('Epoch #', fontsize=\"x-large\")\r\n",
        "    ax.set_title('Loss', fontsize=\"x-large\")\r\n",
        "    ax.set_xticks(x)\r\n",
        "    ax.set_xticklabels(epoch)\r\n",
        "    ax.legend(fontsize=\"x-large\")\r\n",
        "\r\n",
        "    fig.tight_layout()\r\n",
        "    plt.savefig(f\"{prefix+'_' if prefix else prefix}plot_loss_by_epoch.png\", bbox_inches='tight')\r\n",
        "    plt.show()\r\n",
        "\r\n",
        "def plot_accuracy_by_epoch(train_accuracy, val_accuracy, prefix: str =\"\"):\r\n",
        "    \"\"\"Plot illustrating Accuracy by Epoch\r\n",
        "\r\n",
        "    Parameters\r\n",
        "    ----------\r\n",
        "    train_accuracy : ArrayLike\r\n",
        "        Training accuracy per epoch\r\n",
        "    val_accuracy : ArrayLike\r\n",
        "        Validation accuracy per epoch\r\n",
        "    prefix : str\r\n",
        "        filename prefix\r\n",
        "    \"\"\"\r\n",
        "    epoch = list(range(1, len(train_accuracy)+1))\r\n",
        "\r\n",
        "    x = np.arange(len(epoch)) # the label locations\r\n",
        "\r\n",
        "    fig, ax = plt.subplots()\r\n",
        "    fig.set_size_inches(20, 12)\r\n",
        "    acc = ax.plot(x, train_accuracy, label=\"Train accuracy\", color=\"b\")\r\n",
        "    acc = ax.plot(x, val_accuracy, label=\"Val accuracy\", color=\"g\")\r\n",
        "\r\n",
        "    ax.set_ylabel('Accuracy', fontsize=\"x-large\")\r\n",
        "    ax.set_xlabel('Epoch #', fontsize=\"x-large\")\r\n",
        "    ax.set_title('Accuracy', fontsize=\"x-large\")\r\n",
        "    ax.set_xticks(x)\r\n",
        "    ax.set_xticklabels(epoch)\r\n",
        "    ax.legend(fontsize=\"x-large\")\r\n",
        "\r\n",
        "    fig.tight_layout()\r\n",
        "    plt.savefig(f\"{prefix+'_' if prefix else prefix}plot_accuracy_by_epoch.png\", bbox_inches='tight')\r\n",
        "    plt.show()\r\n",
        "\r\n",
        "def plot_statistics(stats: Dict, prefix: str =\"\"):\r\n",
        "    \"\"\"Plot illustrating Validation and Accuracy by Epoch\r\n",
        "\r\n",
        "    Parameters\r\n",
        "    ----------\r\n",
        "    stats : Dict\r\n",
        "        Model's statistics \r\n",
        "    prefix : str\r\n",
        "        filename prefix\r\n",
        "    \"\"\"\r\n",
        "    fig, subfigs = plt.subplots(1, 2)\r\n",
        "\r\n",
        "    epoch = list(range(1, len(stats[\"losses\"][\"val\"])+1))\r\n",
        "    x = np.arange(len(epoch))\r\n",
        "\r\n",
        "    for ax, datatype in zip(subfigs, stats.keys()):\r\n",
        "        ax.plot(x, stats[datatype][\"train\"], label=f\"Training {datatype}\")\r\n",
        "        ax.plot(x, stats[datatype][\"val\"], label=f\"Validation {datatype}\")\r\n",
        "\r\n",
        "        ax.legend()\r\n",
        "        ax.set_xlabel(\"Epochs\")\r\n",
        "        ax.set_title(f\"{datatype[0].upper()+datatype[1:]} Training & Validation by Epoch\")\r\n",
        "\r\n",
        "    fig.tight_layout()\r\n",
        "    plt.savefig(f\"{prefix+'_' if prefix else prefix}plot_statistic.png\", bbox_inches='tight')\r\n",
        "    plt.show()\r\n",
        "\r\n",
        "def bar_plot_report(values: dict, comptype: str, transfer: bool=False):\r\n",
        "    \"\"\"Bar plot illustrating comparaison between two elements\r\n",
        "\r\n",
        "    Parameters\r\n",
        "    ----------\r\n",
        "    values : Dict\r\n",
        "        Statistique values\r\n",
        "    comptype : str\r\n",
        "        Comparator type\r\n",
        "    transfer : bool\r\n",
        "        If plot for transfer learning, by default False\r\n",
        "    \"\"\"\r\n",
        "    fig, ax1 = plt.subplots()\r\n",
        "\r\n",
        "    support = values[\"support\"]\r\n",
        "    x = np.arange(len(support))\r\n",
        "    y = values[comptype]\r\n",
        "\r\n",
        "    fig.set_size_inches(20, 12)\r\n",
        "\r\n",
        "    w = 0.2\r\n",
        "    color = 'b'\r\n",
        "    ax1.bar(x-w, support, width=w, color=color, align='edge', label=\"N° données entraînement\")\r\n",
        "    ax1.set_ylabel(f\"N° de données\\nd'entraînement\", fontsize=\"x-large\", color=color)\r\n",
        "    ax1.tick_params(axis='y', labelcolor=color)\r\n",
        "    ax1.set_xticks(np.arange(len(support)))\r\n",
        "\r\n",
        "    ax2 = ax1.twinx()\r\n",
        "    color = 'r'\r\n",
        "    ax2.bar(x, y, width=w, color=color, align='edge', label=comptype.title())\r\n",
        "    ax2.set_ylabel(f\"{comptype.title()}\", fontsize=\"x-large\", color=color)\r\n",
        "    ax2.tick_params(axis='y', labelcolor=color)\r\n",
        "    ax2.set_ylim([0, 1.5])\r\n",
        "\r\n",
        "    ax1.set_xlabel(f\"N° de classe\", fontsize=\"x-large\")\r\n",
        "    ax1.set_title(f\"{comptype.title()} et nombre de\\ndonnées de support pour chaque classe\", fontsize=\"x-large\")\r\n",
        "    bar1, lab1 = ax1.get_legend_handles_labels()\r\n",
        "    bar2, lab2 = ax2.get_legend_handles_labels()\r\n",
        "    ax1.legend(bar1 + bar2, lab1 + lab2, fontsize=\"x-large\")\r\n",
        "\r\n",
        "    fig.tight_layout()\r\n",
        "    fig.savefig(f\"{'tf-' if transfer else ''}report-{comptype}-bar.png\", bbox_inches='tight')\r\n",
        "    plt.show()"
      ],
      "execution_count": 4,
      "outputs": []
    },
    {
      "cell_type": "markdown",
      "metadata": {
        "id": "MohED7hIHQdY"
      },
      "source": [
        "## Développement du modèle"
      ]
    },
    {
      "cell_type": "code",
      "metadata": {
        "id": "zJTVQJjDgDx4"
      },
      "source": [
        "class TrafficSignModel(nn.Module):\r\n",
        "    \"\"\"Traffic Sign Model\r\n",
        "\r\n",
        "    Neural network model, define and initialize the layers of the network.\r\n",
        "    \"\"\"\r\n",
        "\r\n",
        "    def __init__(self):\r\n",
        "        super().__init__()\r\n",
        "        # Initialisation des modules contenant des paramètres à optimiser. \r\n",
        "        self.C1 = nn.Conv2d(3, 32, kernel_size=5, stride=2, bias=False)\r\n",
        "        self.N2 = nn.BatchNorm2d(32)\r\n",
        "        \r\n",
        "        self.C3 = nn.Conv2d(32, 64, kernel_size=3, stride=2, bias=False)\r\n",
        "        self.N4 = nn.BatchNorm2d(64)\r\n",
        "        \r\n",
        "        self.C5 = nn.Conv2d(64, 64, kernel_size=3, stride=2, bias=False)\r\n",
        "        self.N6 = nn.BatchNorm2d(64)\r\n",
        "        \r\n",
        "        self.C7 = nn.Conv2d(64, 64, kernel_size=3, stride=2, bias=False)\r\n",
        "        self.N8 = nn.BatchNorm2d(64)\r\n",
        "        \r\n",
        "        self.C9 = nn.Conv2d(64, 64, kernel_size=3, stride=2, bias=False)\r\n",
        "        self.N10 = nn.BatchNorm2d(64)\r\n",
        "        \r\n",
        "        self.L11 = nn.Linear(64, NUM_CLASSES)\r\n",
        "        self.output = nn.Sigmoid()\r\n",
        "\r\n",
        "    def forward(self, x):\r\n",
        "        \"\"\"Forward\r\n",
        "\r\n",
        "        Control in which order the inference will be done on the layers.\r\n",
        "        \"\"\"\r\n",
        "        y = F.relu(self.N2(self.C1(x)))\r\n",
        "        y = F.relu(self.N4(self.C3(y)))\r\n",
        "        y = F.relu(self.N6(self.C5(y)))\r\n",
        "        y = F.relu(self.N8(self.C7(y)))\r\n",
        "        y = F.relu(self.N10(self.C9(y)))\r\n",
        "        \r\n",
        "        y = y.view(y.size()[0], 64, -1).mean(dim=2)\r\n",
        "        y = self.L11(y)\r\n",
        "\r\n",
        "        return self.output(y)\r\n",
        "\r\n",
        "def load_model(filename: Union[str,PurePath]) -> Tuple[nn.Module, optim.Optimizer, nn.Module, Dict]:\r\n",
        "    \"\"\"Model Loader\r\n",
        "\r\n",
        "    Allow to load a previously saved model\r\n",
        "\r\n",
        "    Parameters\r\n",
        "    ----------\r\n",
        "    filename : Union[str,PurePath]\r\n",
        "        Model filename\r\n",
        "\r\n",
        "    Returns\r\n",
        "    -------\r\n",
        "    Tuple[nn.Module, optim.Optimizer, nn.Module, Dict]\r\n",
        "        Return the model, the optimizer, the criterion and the statistics\r\n",
        "    \"\"\"\r\n",
        "    data = torch.load(str(PurePath(f\"models/{filename}.plt\")), map_location='cpu')\r\n",
        "\r\n",
        "    model: nn.Module = data['model']\r\n",
        "    model.load_state_dict(data['model_state'])\r\n",
        "    optimizer: optim.Optimizer = data['optimizer']\r\n",
        "    optimizer.load_state_dict(data['optimizer_state'])\r\n",
        "    criterion: nn.Module = data['criterion']\r\n",
        "    criterion.load_state_dict(data['criterion_state'])\r\n",
        "    stats: dict = data['stats']\r\n",
        "\r\n",
        "    return model, optimizer, criterion, stats\r\n",
        "\r\n",
        "def predict(model, test_data_loader, device):\r\n",
        "    \"\"\"Model prediction\r\n",
        "\r\n",
        "    Generate prediction for a given Model\r\n",
        "\r\n",
        "    Parameters\r\n",
        "    ----------\r\n",
        "    model :\r\n",
        "        Network Model\r\n",
        "    test_data_loader :\r\n",
        "        Test Dataloader\r\n",
        "    device :\r\n",
        "        Device to allow GPU or CPU computing\r\n",
        "\r\n",
        "    Returns\r\n",
        "    -------\r\n",
        "    Tuple\r\n",
        "        Predictions and targets.\r\n",
        "    \"\"\"\r\n",
        "    model = model.eval()\r\n",
        "    predictions = []\r\n",
        "    targets = []\r\n",
        "    with torch.no_grad():\r\n",
        "        for inputs, labels in test_data_loader:\r\n",
        "            inputs = inputs.to(device)\r\n",
        "            labels = labels.to(device)\r\n",
        "\r\n",
        "\r\n",
        "            outputs = model(inputs)\r\n",
        "            _, preds = torch.max(outputs, 1)\r\n",
        "\r\n",
        "            predictions.extend(preds)\r\n",
        "            targets.extend(labels)\r\n",
        "\r\n",
        "    predictions = torch.as_tensor(predictions).cpu()\r\n",
        "    targets = torch.as_tensor(targets).cpu()\r\n",
        "    return predictions, targets"
      ],
      "execution_count": 5,
      "outputs": []
    },
    {
      "cell_type": "markdown",
      "metadata": {
        "id": "CIo6KUXYHvPj"
      },
      "source": [
        "## Entraînement du modele"
      ]
    },
    {
      "cell_type": "code",
      "metadata": {
        "id": "CkgvwI02JZLH"
      },
      "source": [
        "class Trainer:\r\n",
        "    \"\"\"Model's Trainer\r\n",
        "\r\n",
        "    Parameters\r\n",
        "    ----------\r\n",
        "    model : nn.Module\r\n",
        "        Network Model\r\n",
        "    data_loaders : Dict\r\n",
        "        Dictionnary with the differents DataLoader\r\n",
        "    device :\r\n",
        "        Device to allow GPU or CPU computing\r\n",
        "    n_epochs : int\r\n",
        "        Number of Epoch, by default 25\r\n",
        "    lr : float\r\n",
        "        Learning rate, by default 0.001\r\n",
        "    momentum : float\r\n",
        "        Momemtum, by default 0.9\r\n",
        "    \"\"\"\r\n",
        "    def __init__(self, model: nn.Module, data_loaders: dict, device=None, n_epochs: int=25, lr=0.001, momentum=0.9):\r\n",
        "        self.model = self.create_model() if model is None else model\r\n",
        "        self.optimizer = SGD(self.model.parameters(), lr=lr, momentum=momentum)\r\n",
        "        self.scheduler = lr_scheduler.StepLR(self.optimizer, step_size=7, gamma=0.1)\r\n",
        "        self.criterion = nn.CrossEntropyLoss()\r\n",
        "        self.data_loaders = data_loaders\r\n",
        "        self.n_epochs = n_epochs\r\n",
        "        self.device=device\r\n",
        "\r\n",
        "        self.train_losses = list()\r\n",
        "        self.val_losses = list()\r\n",
        "        self.train_accuracies = list()\r\n",
        "        self.val_accuracies = list()\r\n",
        "\r\n",
        "    def create_model(self):\r\n",
        "        \"\"\"Model creator\r\n",
        "\r\n",
        "        Returns\r\n",
        "        -------\r\n",
        "        nn.Module\r\n",
        "            Network Model\r\n",
        "        \"\"\"\r\n",
        "        model = models.resnet34(pretrained=True)\r\n",
        "        n_features = model.fc.in_features\r\n",
        "        model.fc = nn.Linear(n_features, NUM_CLASSES)\r\n",
        "        return model\r\n",
        "\r\n",
        "    def save_model(self):\r\n",
        "        \"\"\"Save Model\r\n",
        "\r\n",
        "        Save a model for further use\r\n",
        "\r\n",
        "        Returns\r\n",
        "        -------\r\n",
        "        PurePath\r\n",
        "            Destination path\r\n",
        "        \"\"\"\r\n",
        "        model_name = self.model.__class__.__name__\r\n",
        "        timestamp = time()\r\n",
        "        path = PurePath(f\"models/{model_name}_{timestamp}.plt\")\r\n",
        "\r\n",
        "        data = {\r\n",
        "            'model': self.model.cpu(),\r\n",
        "            'model_state': self.model.state_dict(),\r\n",
        "            'optimizer': self.optimizer,\r\n",
        "            'optimizer_state': self.optimizer.state_dict(),\r\n",
        "            'criterion': self.criterion.cpu(),\r\n",
        "            'criterion_state': self.criterion.state_dict(),\r\n",
        "            'stats': self.get_stats()\r\n",
        "        }\r\n",
        "        torch.save(data, f\"{path}\")\r\n",
        "        print(f\"Saved model at {path}\")\r\n",
        "        return path\r\n",
        "\r\n",
        "    def train_epoch(self, model, pbar):\r\n",
        "        \"\"\"Training for a specific Epoch\r\n",
        "\r\n",
        "        Show accuracy and loss evolution during batch iteration\r\n",
        "\r\n",
        "        Parameters\r\n",
        "        ----------\r\n",
        "        model :\r\n",
        "            Trained model\r\n",
        "        pbar :\r\n",
        "            Tqdm progression bar for visualisation\r\n",
        "\r\n",
        "        Returns\r\n",
        "        -------\r\n",
        "        Tuple\r\n",
        "            Model, Train loss and Train accuracy for this Epoch\r\n",
        "        \"\"\"\r\n",
        "        train_data_loader = self.data_loaders[\"train\"]\r\n",
        "\r\n",
        "        cumul_loss = list()\r\n",
        "        cumul_corr = 0\r\n",
        "\r\n",
        "        for i_batch, (images, targets) in enumerate(train_data_loader):\r\n",
        "            tqdm.write(f' [-] Batch: {i_batch+1:4}/{len(train_data_loader)}, '\r\n",
        "                f'Train loss: {np.mean(cumul_loss or 0):.4f}, '\r\n",
        "                f'Train accuracy: {(cumul_corr.double() if cumul_corr else 0) / len(train_data_loader.dataset):.4%}',\r\n",
        "                end=\"\")\r\n",
        "            images = images.to(self.device)\r\n",
        "            targets = targets.long().to(self.device)\r\n",
        "\r\n",
        "            # Forward\r\n",
        "            outputs = model(images.float())\r\n",
        "            _, preds = torch.max(outputs, dim=1)\r\n",
        "            loss = self.criterion(outputs, targets)\r\n",
        "\r\n",
        "            # statistics\r\n",
        "            cumul_loss.append(loss.item())\r\n",
        "            cumul_corr += torch.sum(preds == targets)\r\n",
        "\r\n",
        "            # backward\r\n",
        "            loss.backward()\r\n",
        "            self.optimizer.step()\r\n",
        "            self.optimizer.zero_grad()\r\n",
        "\r\n",
        "            pbar.update(1)\r\n",
        "\r\n",
        "        self.scheduler.step()\r\n",
        "\r\n",
        "        epoch_loss = np.mean(cumul_loss)\r\n",
        "        epoch_acc = cumul_corr.double() / len(train_data_loader.dataset)\r\n",
        "        tqdm.write(f' [-] Batch: {len(train_data_loader):4}, '\r\n",
        "            f'Train loss: {epoch_loss:.4f}, Train accuracy: {epoch_acc:.4%}')\r\n",
        "\r\n",
        "        return model, epoch_loss, epoch_acc\r\n",
        "\r\n",
        "\r\n",
        "    def get_model(self):\r\n",
        "        \"\"\"Model Getter\r\n",
        "\r\n",
        "        Returns\r\n",
        "        -------\r\n",
        "            Model\r\n",
        "        \"\"\"\r\n",
        "        return self.model\r\n",
        "\r\n",
        "    def get_stats(self):\r\n",
        "        \"\"\"Statistics Getter\r\n",
        "\r\n",
        "        Get losses and accuracies statistics for train and validation\r\n",
        "\r\n",
        "        Returns\r\n",
        "        -------\r\n",
        "        Dict\r\n",
        "            Train and validation statistics\r\n",
        "        \"\"\"\r\n",
        "        return {\r\n",
        "                   \"losses\": {\"train\": self.train_losses, \"val\": self.val_losses}, \r\n",
        "                   \"accuracies\": {\"train\": self.train_accuracies, \"val\": self.val_accuracies}\r\n",
        "               }\r\n",
        "\r\n",
        "    def validate_epoch(self, model, pbar):\r\n",
        "        \"\"\"Validation for a specific Epoch\r\n",
        "\r\n",
        "        Show accuracy and loss evolution during batch iteration\r\n",
        "\r\n",
        "        Parameters\r\n",
        "        ----------\r\n",
        "        model :\r\n",
        "            Validation model\r\n",
        "        pbar :\r\n",
        "            Tqdm progression bar for visualisation\r\n",
        "\r\n",
        "        Returns\r\n",
        "        -------\r\n",
        "        Tuple\r\n",
        "            Model, Validation loss and Validation accuracy for this Epoch\r\n",
        "        \"\"\"\r\n",
        "        val_data_loader = self.data_loaders[\"val\"]\r\n",
        "\r\n",
        "        cumul_loss = list()\r\n",
        "        cumul_corr = 0\r\n",
        "\r\n",
        "        with torch.no_grad():\r\n",
        "            for i_batch, (images, targets) in enumerate(val_data_loader):\r\n",
        "                tqdm.write(f' [-] Batch: {i_batch+1:4}/{len(val_data_loader)},    '\r\n",
        "                    f'Val loss: {np.mean(cumul_loss or 0):.4f},   '\r\n",
        "                    f'Val accuracy: {(cumul_corr.double() if cumul_corr else 0) / len(val_data_loader.dataset):.4%}',\r\n",
        "                    end=\"\")\r\n",
        "                images = images.to(self.device)\r\n",
        "                targets = targets.long().to(self.device)\r\n",
        "\r\n",
        "                # Forward\r\n",
        "                outputs = model(images.float())\r\n",
        "                _, preds = torch.max(outputs, dim=1)\r\n",
        "                loss = self.criterion(outputs, targets)\r\n",
        "\r\n",
        "                # statistics\r\n",
        "                cumul_loss.append(loss.item())\r\n",
        "                cumul_corr += torch.sum(preds == targets)\r\n",
        "\r\n",
        "                pbar.update(1)\r\n",
        "\r\n",
        "        epoch_loss = np.mean(cumul_loss)\r\n",
        "        epoch_acc = cumul_corr.double() / len(val_data_loader.dataset)\r\n",
        "        tqdm.write(f' [-] Batch: {len(val_data_loader):4},   '\r\n",
        "            f'Val loss: {epoch_loss:.4f},   Val accuracy: {epoch_acc:.4%}')\r\n",
        "\r\n",
        "        return model, epoch_loss, epoch_acc\r\n",
        "\r\n",
        "\r\n",
        "    def train(self, lr: float=0.01):\r\n",
        "        \"\"\"Training\r\n",
        "\r\n",
        "        Train model and validation\r\n",
        "\r\n",
        "        Parameters\r\n",
        "        ----------\r\n",
        "        lr : int\r\n",
        "            Learning rate, by default 0.01\r\n",
        "        \"\"\"\r\n",
        "        model = self.model\r\n",
        "        \r\n",
        "        train_losses = list()\r\n",
        "        val_losses = list()\r\n",
        "\r\n",
        "        train_accuracies = list()\r\n",
        "        val_accuracies = list()\r\n",
        "\r\n",
        "        best_model = deepcopy(model.state_dict())\r\n",
        "        best_acc = 0.0\r\n",
        "\r\n",
        "        if torch.cuda.is_available():\r\n",
        "            model = model.cuda()\r\n",
        "            self.criterion = self.criterion.cuda()\r\n",
        "\r\n",
        "        time_length = self.n_epochs * (1 + len(self.data_loaders[\"train\"]) + len(self.data_loaders[\"val\"]))\r\n",
        "        with tqdm(total=time_length, desc=\"Training...\") as progress_bar:\r\n",
        "            for epoch in range(self.n_epochs):\r\n",
        "                tqdm.write(f\"\\nEpoch {epoch + 1:2}/{self.n_epochs}\")\r\n",
        "                tqdm.write(\"-\" * 11)\r\n",
        "\r\n",
        "                progress_bar.update(1)\r\n",
        "\r\n",
        "                model = model.train()\r\n",
        "                model, train_loss, train_acc = self.train_epoch(model, pbar=progress_bar)\r\n",
        "                train_losses.append(train_loss)\r\n",
        "                train_accuracies.append(train_acc.detach().cpu().numpy())\r\n",
        "\r\n",
        "                progress_bar.update(1)\r\n",
        "\r\n",
        "                model = model.eval()\r\n",
        "                model, val_loss, val_acc = self.validate_epoch(model, pbar=progress_bar)\r\n",
        "                val_losses.append(val_loss)\r\n",
        "                val_accuracies.append(val_acc.detach().cpu().numpy())\r\n",
        "\r\n",
        "                if val_acc > best_acc:\r\n",
        "                    best_acc = val_acc\r\n",
        "                    best_model = deepcopy(model.state_dict())\r\n",
        "\r\n",
        "        model.load_state_dict(best_model)\r\n",
        "        self.model = model.cpu()\r\n",
        "        self.train_losses = train_losses\r\n",
        "        self.val_losses = val_losses\r\n",
        "        self.train_accuracies = train_accuracies\r\n",
        "        self.val_accuracies = val_accuracies"
      ],
      "execution_count": 6,
      "outputs": []
    },
    {
      "cell_type": "markdown",
      "metadata": {
        "id": "MMvI4e-eoK1D"
      },
      "source": [
        "## Programme de détection de panneaux de signalisation"
      ]
    },
    {
      "cell_type": "code",
      "metadata": {
        "id": "YmXhZOpHfFYL"
      },
      "source": [
        "def main():\r\n",
        "    \"\"\"Main program\r\n",
        "\r\n",
        "    Traffic sign recognition program\r\n",
        "    \"\"\"\r\n",
        "    print(\"Exécution de l'entrainement de détection de panneaux de signalisation allemand\")\r\n",
        "    # Download Dataset\r\n",
        "    if not isdir(\"GTSRBSelection\"):\r\n",
        "        download_dataset(DATASET_URL, \"GTSRBSelection\")\r\n",
        "    if not isdir(\"models\"):\r\n",
        "        mkdir(\"models\")\r\n",
        "\r\n",
        "    # Create Tranform Compose\r\n",
        "    transforms = dict(\r\n",
        "        train=T.Compose([\r\n",
        "            T.Resize(size=RESIZE_VALUE),\r\n",
        "            T.RandomResizedCrop(size=CROP_VALUE),\r\n",
        "            T.RandomRotation(degrees=ROTATION_VALUE),\r\n",
        "            T.RandomHorizontalFlip(),\r\n",
        "            T.ToTensor(),\r\n",
        "            T.Normalize(MEAN_VALS, STD_VALS),\r\n",
        "        ]),\r\n",
        "        val=T.Compose([\r\n",
        "            T.Resize(size=RESIZE_VALUE),\r\n",
        "            T.CenterCrop(size=CROP_VALUE),\r\n",
        "            T.ToTensor(),\r\n",
        "            T.Normalize(MEAN_VALS, STD_VALS),\r\n",
        "        ]),\r\n",
        "        test=T.Compose([\r\n",
        "            T.Resize(size=RESIZE_VALUE),\r\n",
        "            T.CenterCrop(size=CROP_VALUE),\r\n",
        "            T.ToTensor(),\r\n",
        "            T.Normalize(MEAN_VALS, STD_VALS),\r\n",
        "        ])\r\n",
        "    )\r\n",
        "\r\n",
        "    # Image folder\r\n",
        "    dataset = ImageFolder(\"GTSRBSelection\")\r\n",
        "    dataset_sizes = [int(len(dataset) * a) for a in [0.75, 0.15]]\r\n",
        "    dataset_sizes.extend([len(dataset) - sum(dataset_sizes)])\r\n",
        "    train_set, val_set, test_set = random_split(dataset, dataset_sizes)\r\n",
        "\r\n",
        "    # Apply Transforms on datasets\r\n",
        "    train_set.dataset.transform = transforms[\"train\"]\r\n",
        "    val_set.dataset.transform = transforms[\"val\"]\r\n",
        "    test_set.dataset.transform = transforms[\"test\"]\r\n",
        "\r\n",
        "    data_loaders = dict(\r\n",
        "        train=DataLoader(train_set,batch_size=BATCH_SIZE, shuffle=SHUFFLE, num_workers=NUM_WORKER),\r\n",
        "        val=DataLoader(val_set, batch_size=BATCH_SIZE, shuffle=SHUFFLE, num_workers=NUM_WORKER),\r\n",
        "        test=DataLoader(test_set, batch_size=BATCH_SIZE, shuffle=SHUFFLE, num_workers=NUM_WORKER)\r\n",
        "    )\r\n",
        "\r\n",
        "    # Entrainement du model\r\n",
        "    trainer = Trainer(model=None, data_loaders=data_loaders, device=DEVICE, n_epochs=NB_EPOCH)   \r\n",
        "    trainer.train()\r\n",
        "    trainer.save_model()\r\n",
        "    stats = trainer.get_stats()\r\n",
        "\r\n",
        "    return stats, trainer, data_loaders"
      ],
      "execution_count": 7,
      "outputs": []
    },
    {
      "cell_type": "markdown",
      "metadata": {
        "id": "jV3-JrVXRJE-"
      },
      "source": [
        "## Exécution du programme"
      ]
    },
    {
      "cell_type": "code",
      "metadata": {
        "id": "HRBAkOHmRMoI",
        "colab": {
          "base_uri": "https://localhost:8080/",
          "height": 1000,
          "referenced_widgets": [
            "808a28fbcca2438c93a05db4ecafca20",
            "a33369c9b9ee4d6c8babfd2fa22879fc",
            "69615fa374af43619a2b1d4fdcfc7793",
            "7462e0a0af8849d5aab1f586fee85643",
            "60d80710221c4fc7a7c48558c011e8a2",
            "bff00b3c435d4ecea9670f1e8aa7d3e3",
            "ab66abcbb24c4dc8981fe3c8bae0b329",
            "958bdc753a1948979d8c9993db8286f7",
            "c1d9ed8db8c5402d88a2393b99003796",
            "1be426d0787c4dc28c2e832e309e277a",
            "911a0667519f44fa9d5c93e1072ac354",
            "68fa8b0989fc4903b533aeffa452644b",
            "d5849acc1a07430183627846bfe277b4",
            "64336745060d49f084a917c148274d4e",
            "71dae41334fe43e388992e71759c6e8e",
            "23777355b4b549d8aade762e4fdec3ca",
            "1062f025272c4f25809962795c026e8b",
            "a6e95014b5244f169a26b960d0bda72a",
            "b7e3216ee0fd475f92326baa95306dba",
            "ea8ff50e8cd44bc881cafc756e699033",
            "c299476afd094c12820e4a7e38b72ddd",
            "1f5f81c46e774d389a672c85c857af00",
            "45e7e8cb795c41b7953ecdf147b6beb6",
            "bf0b237be3a8424d9a34867a8e08d6e2"
          ]
        },
        "outputId": "ef5648f0-0805-4cca-b262-53058e413b8b"
      },
      "source": [
        "if __name__ == '__main__':\r\n",
        "    # Execute program and empty GPU cache\r\n",
        "    try:\r\n",
        "        stats_de, trainer_de, dldrs_de = main()\r\n",
        "        print(pformat(trainer_de.get_stats()))\r\n",
        "\r\n",
        "        try:\r\n",
        "            # Only if in a Google Colab Environment\r\n",
        "            from google.colab import files\r\n",
        "            print(\"Récupération des données\")\r\n",
        "            IS_COLAB_ENV = True\r\n",
        "            for model_name in listdir(\"models\"):\r\n",
        "                files.download(f'/content/models/{model_name}')\r\n",
        "        except:\r\n",
        "            # Outside Google Colab Environement\r\n",
        "            pass\r\n",
        "\r\n",
        "        print(\"Représentation du traitement des données\")\r\n",
        "        plot_loss_by_epoch(stats_de[\"losses\"][\"train\"], stats_de[\"losses\"][\"val\"])\r\n",
        "        plot_accuracy_by_epoch(stats_de[\"accuracies\"][\"train\"], stats_de[\"accuracies\"][\"val\"])\r\n",
        "        torch.cuda.empty_cache()\r\n",
        "    except BaseException as err:\r\n",
        "        torch.cuda.empty_cache()\r\n",
        "        raise err"
      ],
      "execution_count": 8,
      "outputs": [
        {
          "output_type": "stream",
          "text": [
            "Exécution de l'entrainement de détection de panneaux de signalisation allemand\n"
          ],
          "name": "stdout"
        },
        {
          "output_type": "display_data",
          "data": {
            "application/vnd.jupyter.widget-view+json": {
              "model_id": "808a28fbcca2438c93a05db4ecafca20",
              "version_minor": 0,
              "version_major": 2
            },
            "text/plain": [
              "HBox(children=(FloatProgress(value=0.0, description='Download GTSRBSelection Dataset', max=182439.0, style=Pro…"
            ]
          },
          "metadata": {
            "tags": []
          }
        },
        {
          "output_type": "stream",
          "text": [
            "\n"
          ],
          "name": "stdout"
        },
        {
          "output_type": "stream",
          "text": [
            "Downloading: \"https://download.pytorch.org/models/resnet34-333f7ec4.pth\" to /root/.cache/torch/hub/checkpoints/resnet34-333f7ec4.pth\n"
          ],
          "name": "stderr"
        },
        {
          "output_type": "display_data",
          "data": {
            "application/vnd.jupyter.widget-view+json": {
              "model_id": "c1d9ed8db8c5402d88a2393b99003796",
              "version_minor": 0,
              "version_major": 2
            },
            "text/plain": [
              "HBox(children=(FloatProgress(value=0.0, max=87306240.0), HTML(value='')))"
            ]
          },
          "metadata": {
            "tags": []
          }
        },
        {
          "output_type": "stream",
          "text": [
            "\n"
          ],
          "name": "stdout"
        },
        {
          "output_type": "display_data",
          "data": {
            "application/vnd.jupyter.widget-view+json": {
              "model_id": "1062f025272c4f25809962795c026e8b",
              "version_minor": 0,
              "version_major": 2
            },
            "text/plain": [
              "HBox(children=(FloatProgress(value=0.0, description='Training...', max=1680.0, style=ProgressStyle(description…"
            ]
          },
          "metadata": {
            "tags": []
          }
        },
        {
          "output_type": "stream",
          "text": [
            "\r\n",
            "Epoch  1/5\n",
            "-----------\n",
            " [-] Batch:  279, Train loss: 0.3210, Train accuracy: 91.9632%\n",
            " [-] Batch:   56,   Val loss: 0.5027,   Val accuracy: 83.8855%\n",
            "\n",
            "Epoch  2/5\n",
            "-----------\n",
            " [-] Batch:  279, Train loss: 0.0135, Train accuracy: 99.7755%\n",
            " [-] Batch:   56,   Val loss: 0.1913,   Val accuracy: 94.5536%\n",
            "\n",
            "Epoch  3/5\n",
            "-----------\n",
            " [-] Batch:  279, Train loss: 0.0050, Train accuracy: 99.9327%\n",
            " [-] Batch:   56,   Val loss: 0.0138,   Val accuracy: 99.6631%\n",
            "\n",
            "Epoch  4/5\n",
            "-----------\n",
            " [-] Batch:  279, Train loss: 0.0034, Train accuracy: 99.9663%\n",
            " [-] Batch:   56,   Val loss: 0.0036,   Val accuracy: 99.9439%\n",
            "\n",
            "Epoch  5/5\n",
            "-----------\n",
            " [-] Batch:  279, Train loss: 0.0055, Train accuracy: 99.8990%\n",
            " [-] Batch:   56,   Val loss: 0.1777,   Val accuracy: 94.7782%\n",
            "\n",
            "Saved model at models/ResNet_1608512443.7087638.plt\n",
            "{'accuracies': {'train': [array(0.91963183),\n",
            "                          array(0.99775508),\n",
            "                          array(0.99932652),\n",
            "                          array(0.99966326),\n",
            "                          array(0.99898979)],\n",
            "                'val': [array(0.83885458),\n",
            "                        array(0.94553622),\n",
            "                        array(0.99663111),\n",
            "                        array(0.99943852),\n",
            "                        array(0.94778214)]},\n",
            " 'losses': {'train': [0.32095130138586553,\n",
            "                      0.013519164935458705,\n",
            "                      0.005015113844542921,\n",
            "                      0.003420699251970897,\n",
            "                      0.005522375597783755],\n",
            "            'val': [0.50270311933543,\n",
            "                    0.1913097329836871,\n",
            "                    0.013816797197380635,\n",
            "                    0.0035912812922366095,\n",
            "                    0.17769491785605038]}}\n",
            "Récupération des données\n"
          ],
          "name": "stdout"
        },
        {
          "output_type": "display_data",
          "data": {
            "application/javascript": [
              "\n",
              "    async function download(id, filename, size) {\n",
              "      if (!google.colab.kernel.accessAllowed) {\n",
              "        return;\n",
              "      }\n",
              "      const div = document.createElement('div');\n",
              "      const label = document.createElement('label');\n",
              "      label.textContent = `Downloading \"${filename}\": `;\n",
              "      div.appendChild(label);\n",
              "      const progress = document.createElement('progress');\n",
              "      progress.max = size;\n",
              "      div.appendChild(progress);\n",
              "      document.body.appendChild(div);\n",
              "\n",
              "      const buffers = [];\n",
              "      let downloaded = 0;\n",
              "\n",
              "      const channel = await google.colab.kernel.comms.open(id);\n",
              "      // Send a message to notify the kernel that we're ready.\n",
              "      channel.send({})\n",
              "\n",
              "      for await (const message of channel.messages) {\n",
              "        // Send a message to notify the kernel that we're ready.\n",
              "        channel.send({})\n",
              "        if (message.buffers) {\n",
              "          for (const buffer of message.buffers) {\n",
              "            buffers.push(buffer);\n",
              "            downloaded += buffer.byteLength;\n",
              "            progress.value = downloaded;\n",
              "          }\n",
              "        }\n",
              "      }\n",
              "      const blob = new Blob(buffers, {type: 'application/binary'});\n",
              "      const a = document.createElement('a');\n",
              "      a.href = window.URL.createObjectURL(blob);\n",
              "      a.download = filename;\n",
              "      div.appendChild(a);\n",
              "      a.click();\n",
              "      div.remove();\n",
              "    }\n",
              "  "
            ],
            "text/plain": [
              "<IPython.core.display.Javascript object>"
            ]
          },
          "metadata": {
            "tags": []
          }
        },
        {
          "output_type": "display_data",
          "data": {
            "application/javascript": [
              "download(\"download_0cecf1d3-82d5-4b7a-a374-a9f8ad7798ac\", \"ResNet_1608512443.7087638.plt\", 170675217)"
            ],
            "text/plain": [
              "<IPython.core.display.Javascript object>"
            ]
          },
          "metadata": {
            "tags": []
          }
        },
        {
          "output_type": "stream",
          "text": [
            "Représentation du traitement des données\n"
          ],
          "name": "stdout"
        },
        {
          "output_type": "display_data",
          "data": {
            "image/png": "[encoded data removed]",
            "text/plain": [
              "<Figure size 1440x864 with 1 Axes>"
            ]
          },
          "metadata": {
            "tags": [],
            "needs_background": "light"
          }
        },
        {
          "output_type": "display_data",
          "data": {
            "image/png": "[encoded data removed]",
            "text/plain": [
              "<Figure size 1440x864 with 1 Axes>"
            ]
          },
          "metadata": {
            "tags": [],
            "needs_background": "light"
          }
        }
      ]
    },
    {
      "cell_type": "markdown",
      "metadata": {
        "id": "_2Lr1LOhqBgC"
      },
      "source": [
        "## Test du réseau sur les données allemandes"
      ]
    },
    {
      "cell_type": "code",
      "metadata": {
        "id": "ejMy13OOqGiZ"
      },
      "source": [
        "def deutsch_network_test(trainer, data_loaders):\r\n",
        "    \"\"\"Deutsch Network Test\r\n",
        "\r\n",
        "    Process Test with Deustch Model Network\r\n",
        "    \"\"\"\r\n",
        "    print(\"Test du réseau sur les données allemandes\")\r\n",
        "    dev = trainer.device\r\n",
        "    de_model = trainer.get_model().to(dev)\r\n",
        "\r\n",
        "    y_pred, y_test = predict(de_model, data_loaders['test'], dev)\r\n",
        "    y_pred = y_pred.float()\r\n",
        "    y_test = y_test.float()\r\n",
        "    report = precision_recall_fscore_support(y_test, y_pred)\r\n",
        "\r\n",
        "    return report"
      ],
      "execution_count": 9,
      "outputs": []
    },
    {
      "cell_type": "code",
      "metadata": {
        "colab": {
          "base_uri": "https://localhost:8080/",
          "height": 1000
        },
        "id": "P9_TvKiSqHlV",
        "outputId": "86674cd0-0df0-4ee6-a177-17bd8d7aa737"
      },
      "source": [
        "if __name__ == '__main__':\r\n",
        "    # Execute program and empty GPU cache\r\n",
        "    try:\r\n",
        "        report_de = deutsch_network_test(trainer_de, dldrs_de)\r\n",
        "        print(pformat(report_de))\r\n",
        "        report_vals = {k: v for k, v in zip((\"precision\", \"recall\", \"f-mesure\", \"support\"), report_de)}\r\n",
        "        print(\"Représentation du traitement des données\")\r\n",
        "        for c in (\"precision\", \"recall\", \"f-mesure\"):\r\n",
        "            bar_plot_report(report_vals, c)\r\n",
        "        if IS_COLAB_ENV:\r\n",
        "            print(\"Sauvegarde des images\")\r\n",
        "            # Only if in a Google Colab Environment\r\n",
        "            for img_name in glob(\"./*.png\"):\r\n",
        "                files.download(img_name)\r\n",
        "        torch.cuda.empty_cache()\r\n",
        "    except BaseException as err:\r\n",
        "        torch.cuda.empty_cache()\r\n",
        "        raise err"
      ],
      "execution_count": 10,
      "outputs": [
        {
          "output_type": "stream",
          "text": [
            "Test du réseau sur les données allemandes\n",
            "(array([1., 1., 1., 1., 1., 1., 1., 1., 1., 1.]),\n",
            " array([1., 1., 1., 1., 1., 1., 1., 1., 1., 1.]),\n",
            " array([1., 1., 1., 1., 1., 1., 1., 1., 1., 1.]),\n",
            " array([138, 140, 221, 220,  61, 110, 112,  65,  72,  50]))\n",
            "Représentation du traitement des données\n"
          ],
          "name": "stdout"
        },
        {
          "output_type": "display_data",
          "data": {
            "image/png": "[encoded data removed]",
            "text/plain": [
              "<Figure size 1440x864 with 2 Axes>"
            ]
          },
          "metadata": {
            "tags": [],
            "needs_background": "light"
          }
        },
        {
          "output_type": "display_data",
          "data": {
            "image/png": "[encoded data removed]",
            "text/plain": [
              "<Figure size 1440x864 with 2 Axes>"
            ]
          },
          "metadata": {
            "tags": [],
            "needs_background": "light"
          }
        },
        {
          "output_type": "display_data",
          "data": {
            "image/png": "[encoded data removed]",
            "text/plain": [
              "<Figure size 1440x864 with 2 Axes>"
            ]
          },
          "metadata": {
            "tags": [],
            "needs_background": "light"
          }
        },
        {
          "output_type": "stream",
          "text": [
            "Sauvegarde des images\n"
          ],
          "name": "stdout"
        },
        {
          "output_type": "display_data",
          "data": {
            "application/javascript": [
              "\n",
              "    async function download(id, filename, size) {\n",
              "      if (!google.colab.kernel.accessAllowed) {\n",
              "        return;\n",
              "      }\n",
              "      const div = document.createElement('div');\n",
              "      const label = document.createElement('label');\n",
              "      label.textContent = `Downloading \"${filename}\": `;\n",
              "      div.appendChild(label);\n",
              "      const progress = document.createElement('progress');\n",
              "      progress.max = size;\n",
              "      div.appendChild(progress);\n",
              "      document.body.appendChild(div);\n",
              "\n",
              "      const buffers = [];\n",
              "      let downloaded = 0;\n",
              "\n",
              "      const channel = await google.colab.kernel.comms.open(id);\n",
              "      // Send a message to notify the kernel that we're ready.\n",
              "      channel.send({})\n",
              "\n",
              "      for await (const message of channel.messages) {\n",
              "        // Send a message to notify the kernel that we're ready.\n",
              "        channel.send({})\n",
              "        if (message.buffers) {\n",
              "          for (const buffer of message.buffers) {\n",
              "            buffers.push(buffer);\n",
              "            downloaded += buffer.byteLength;\n",
              "            progress.value = downloaded;\n",
              "          }\n",
              "        }\n",
              "      }\n",
              "      const blob = new Blob(buffers, {type: 'application/binary'});\n",
              "      const a = document.createElement('a');\n",
              "      a.href = window.URL.createObjectURL(blob);\n",
              "      a.download = filename;\n",
              "      div.appendChild(a);\n",
              "      a.click();\n",
              "      div.remove();\n",
              "    }\n",
              "  "
            ],
            "text/plain": [
              "<IPython.core.display.Javascript object>"
            ]
          },
          "metadata": {
            "tags": []
          }
        },
        {
          "output_type": "display_data",
          "data": {
            "application/javascript": [
              "download(\"download_de33c198-5b32-407a-8399-41483d5fefb8\", \"plot_loss_by_epoch.png\", 43843)"
            ],
            "text/plain": [
              "<IPython.core.display.Javascript object>"
            ]
          },
          "metadata": {
            "tags": []
          }
        },
        {
          "output_type": "display_data",
          "data": {
            "application/javascript": [
              "\n",
              "    async function download(id, filename, size) {\n",
              "      if (!google.colab.kernel.accessAllowed) {\n",
              "        return;\n",
              "      }\n",
              "      const div = document.createElement('div');\n",
              "      const label = document.createElement('label');\n",
              "      label.textContent = `Downloading \"${filename}\": `;\n",
              "      div.appendChild(label);\n",
              "      const progress = document.createElement('progress');\n",
              "      progress.max = size;\n",
              "      div.appendChild(progress);\n",
              "      document.body.appendChild(div);\n",
              "\n",
              "      const buffers = [];\n",
              "      let downloaded = 0;\n",
              "\n",
              "      const channel = await google.colab.kernel.comms.open(id);\n",
              "      // Send a message to notify the kernel that we're ready.\n",
              "      channel.send({})\n",
              "\n",
              "      for await (const message of channel.messages) {\n",
              "        // Send a message to notify the kernel that we're ready.\n",
              "        channel.send({})\n",
              "        if (message.buffers) {\n",
              "          for (const buffer of message.buffers) {\n",
              "            buffers.push(buffer);\n",
              "            downloaded += buffer.byteLength;\n",
              "            progress.value = downloaded;\n",
              "          }\n",
              "        }\n",
              "      }\n",
              "      const blob = new Blob(buffers, {type: 'application/binary'});\n",
              "      const a = document.createElement('a');\n",
              "      a.href = window.URL.createObjectURL(blob);\n",
              "      a.download = filename;\n",
              "      div.appendChild(a);\n",
              "      a.click();\n",
              "      div.remove();\n",
              "    }\n",
              "  "
            ],
            "text/plain": [
              "<IPython.core.display.Javascript object>"
            ]
          },
          "metadata": {
            "tags": []
          }
        },
        {
          "output_type": "display_data",
          "data": {
            "application/javascript": [
              "download(\"download_03986289-a397-4b5f-bec5-23a2c8494806\", \"report-f-mesure-bar.png\", 32594)"
            ],
            "text/plain": [
              "<IPython.core.display.Javascript object>"
            ]
          },
          "metadata": {
            "tags": []
          }
        },
        {
          "output_type": "display_data",
          "data": {
            "application/javascript": [
              "\n",
              "    async function download(id, filename, size) {\n",
              "      if (!google.colab.kernel.accessAllowed) {\n",
              "        return;\n",
              "      }\n",
              "      const div = document.createElement('div');\n",
              "      const label = document.createElement('label');\n",
              "      label.textContent = `Downloading \"${filename}\": `;\n",
              "      div.appendChild(label);\n",
              "      const progress = document.createElement('progress');\n",
              "      progress.max = size;\n",
              "      div.appendChild(progress);\n",
              "      document.body.appendChild(div);\n",
              "\n",
              "      const buffers = [];\n",
              "      let downloaded = 0;\n",
              "\n",
              "      const channel = await google.colab.kernel.comms.open(id);\n",
              "      // Send a message to notify the kernel that we're ready.\n",
              "      channel.send({})\n",
              "\n",
              "      for await (const message of channel.messages) {\n",
              "        // Send a message to notify the kernel that we're ready.\n",
              "        channel.send({})\n",
              "        if (message.buffers) {\n",
              "          for (const buffer of message.buffers) {\n",
              "            buffers.push(buffer);\n",
              "            downloaded += buffer.byteLength;\n",
              "            progress.value = downloaded;\n",
              "          }\n",
              "        }\n",
              "      }\n",
              "      const blob = new Blob(buffers, {type: 'application/binary'});\n",
              "      const a = document.createElement('a');\n",
              "      a.href = window.URL.createObjectURL(blob);\n",
              "      a.download = filename;\n",
              "      div.appendChild(a);\n",
              "      a.click();\n",
              "      div.remove();\n",
              "    }\n",
              "  "
            ],
            "text/plain": [
              "<IPython.core.display.Javascript object>"
            ]
          },
          "metadata": {
            "tags": []
          }
        },
        {
          "output_type": "display_data",
          "data": {
            "application/javascript": [
              "download(\"download_1896ab1c-915a-4051-9f24-92c4398e7625\", \"plot_accuracy_by_epoch.png\", 50331)"
            ],
            "text/plain": [
              "<IPython.core.display.Javascript object>"
            ]
          },
          "metadata": {
            "tags": []
          }
        },
        {
          "output_type": "display_data",
          "data": {
            "application/javascript": [
              "\n",
              "    async function download(id, filename, size) {\n",
              "      if (!google.colab.kernel.accessAllowed) {\n",
              "        return;\n",
              "      }\n",
              "      const div = document.createElement('div');\n",
              "      const label = document.createElement('label');\n",
              "      label.textContent = `Downloading \"${filename}\": `;\n",
              "      div.appendChild(label);\n",
              "      const progress = document.createElement('progress');\n",
              "      progress.max = size;\n",
              "      div.appendChild(progress);\n",
              "      document.body.appendChild(div);\n",
              "\n",
              "      const buffers = [];\n",
              "      let downloaded = 0;\n",
              "\n",
              "      const channel = await google.colab.kernel.comms.open(id);\n",
              "      // Send a message to notify the kernel that we're ready.\n",
              "      channel.send({})\n",
              "\n",
              "      for await (const message of channel.messages) {\n",
              "        // Send a message to notify the kernel that we're ready.\n",
              "        channel.send({})\n",
              "        if (message.buffers) {\n",
              "          for (const buffer of message.buffers) {\n",
              "            buffers.push(buffer);\n",
              "            downloaded += buffer.byteLength;\n",
              "            progress.value = downloaded;\n",
              "          }\n",
              "        }\n",
              "      }\n",
              "      const blob = new Blob(buffers, {type: 'application/binary'});\n",
              "      const a = document.createElement('a');\n",
              "      a.href = window.URL.createObjectURL(blob);\n",
              "      a.download = filename;\n",
              "      div.appendChild(a);\n",
              "      a.click();\n",
              "      div.remove();\n",
              "    }\n",
              "  "
            ],
            "text/plain": [
              "<IPython.core.display.Javascript object>"
            ]
          },
          "metadata": {
            "tags": []
          }
        },
        {
          "output_type": "display_data",
          "data": {
            "application/javascript": [
              "download(\"download_46c5dbf3-8b9e-47e5-9dff-e3a45e37a1f4\", \"report-precision-bar.png\", 32843)"
            ],
            "text/plain": [
              "<IPython.core.display.Javascript object>"
            ]
          },
          "metadata": {
            "tags": []
          }
        },
        {
          "output_type": "display_data",
          "data": {
            "application/javascript": [
              "\n",
              "    async function download(id, filename, size) {\n",
              "      if (!google.colab.kernel.accessAllowed) {\n",
              "        return;\n",
              "      }\n",
              "      const div = document.createElement('div');\n",
              "      const label = document.createElement('label');\n",
              "      label.textContent = `Downloading \"${filename}\": `;\n",
              "      div.appendChild(label);\n",
              "      const progress = document.createElement('progress');\n",
              "      progress.max = size;\n",
              "      div.appendChild(progress);\n",
              "      document.body.appendChild(div);\n",
              "\n",
              "      const buffers = [];\n",
              "      let downloaded = 0;\n",
              "\n",
              "      const channel = await google.colab.kernel.comms.open(id);\n",
              "      // Send a message to notify the kernel that we're ready.\n",
              "      channel.send({})\n",
              "\n",
              "      for await (const message of channel.messages) {\n",
              "        // Send a message to notify the kernel that we're ready.\n",
              "        channel.send({})\n",
              "        if (message.buffers) {\n",
              "          for (const buffer of message.buffers) {\n",
              "            buffers.push(buffer);\n",
              "            downloaded += buffer.byteLength;\n",
              "            progress.value = downloaded;\n",
              "          }\n",
              "        }\n",
              "      }\n",
              "      const blob = new Blob(buffers, {type: 'application/binary'});\n",
              "      const a = document.createElement('a');\n",
              "      a.href = window.URL.createObjectURL(blob);\n",
              "      a.download = filename;\n",
              "      div.appendChild(a);\n",
              "      a.click();\n",
              "      div.remove();\n",
              "    }\n",
              "  "
            ],
            "text/plain": [
              "<IPython.core.display.Javascript object>"
            ]
          },
          "metadata": {
            "tags": []
          }
        },
        {
          "output_type": "display_data",
          "data": {
            "application/javascript": [
              "download(\"download_04978efd-0448-4251-bc37-b52b0f8b9e9d\", \"report-recall-bar.png\", 31868)"
            ],
            "text/plain": [
              "<IPython.core.display.Javascript object>"
            ]
          },
          "metadata": {
            "tags": []
          }
        }
      ]
    },
    {
      "cell_type": "markdown",
      "metadata": {
        "id": "kGRZ_LTVqDdG"
      },
      "source": [
        "## Transfer Learning / Apprentissage par transfert"
      ]
    },
    {
      "cell_type": "code",
      "metadata": {
        "id": "2tVqE0UGqamp"
      },
      "source": [
        "def main_transfer(trainer):\n",
        "    \"\"\"Transfer program\n",
        "\n",
        "    Traffic sign recognition transfer program to Quebec sign\n",
        "    \"\"\"\n",
        "    print(\"Transfer Learning / Apprentissage par transfère\")\n",
        "    model_de = trainer.get_model()\n",
        "    model_qc = deepcopy(model_de)\n",
        "\n",
        "    # Get Data from Quebec\n",
        "    # Download Dataset\n",
        "    if not isdir(\"Donnees_Quebec\"):\n",
        "        download_dataset(DATASET_URL_QC, \"Donnees_Quebec\")\n",
        "    if not isdir(\"models\"):\n",
        "        mkdir(\"models\")\n",
        "\n",
        "    # Create Tranform Compose\n",
        "    transforms = dict(\n",
        "        train=T.Compose([\n",
        "            T.Resize(size=RESIZE_VALUE),\n",
        "            T.RandomResizedCrop(size=CROP_VALUE),\n",
        "            T.RandomRotation(degrees=ROTATION_VALUE),\n",
        "            T.RandomHorizontalFlip(),\n",
        "            T.ToTensor(),\n",
        "            T.Normalize(MEAN_VALS, STD_VALS),\n",
        "        ]),\n",
        "        val=T.Compose([\n",
        "            T.Resize(size=RESIZE_VALUE),\n",
        "            T.CenterCrop(size=CROP_VALUE),\n",
        "            T.ToTensor(),\n",
        "            T.Normalize(MEAN_VALS, STD_VALS),\n",
        "        ]),\n",
        "        test=T.Compose([\n",
        "            T.Resize(size=RESIZE_VALUE),\n",
        "            T.CenterCrop(size=CROP_VALUE),\n",
        "            T.ToTensor(),\n",
        "            T.Normalize(MEAN_VALS, STD_VALS),\n",
        "        ])\n",
        "    )\n",
        "\n",
        "    # Image folder\n",
        "    dataset = ImageFolder(\"Donnees_Quebec\")\n",
        "    dataset_sizes = [int(len(dataset) * a) for a in [0.75, 0.15]]\n",
        "    dataset_sizes.extend([len(dataset) - sum(dataset_sizes)])\n",
        "    train_set, val_set, test_set = random_split(dataset, dataset_sizes)\n",
        "\n",
        "    train_set.dataset.transform = transforms[\"train\"]\n",
        "    val_set.dataset.transform = transforms[\"val\"]\n",
        "    test_set.dataset.transform = transforms[\"test\"]\n",
        "\n",
        "    data_loaders = dict(\n",
        "        train=DataLoader(train_set, batch_size=BATCH_SIZE, shuffle=SHUFFLE, num_workers=NUM_WORKER),\n",
        "        val=DataLoader(val_set, batch_size=BATCH_SIZE, shuffle=SHUFFLE, num_workers=NUM_WORKER),\n",
        "        test=DataLoader(test_set, batch_size=BATCH_SIZE, shuffle=SHUFFLE, num_workers=NUM_WORKER)\n",
        "    )\n",
        "\n",
        "    # Dernière couche\n",
        "    num_ftrs = model_qc.fc.in_features\n",
        "    model_qc.fc = nn.Linear(num_ftrs, NUM_CLASSES_QC)\n",
        "\n",
        "    for name, param in model_qc.named_parameters():\n",
        "        if 'fc' not in name:\n",
        "            param.requires_grad = False\n",
        "\n",
        "    trainer_qc = Trainer(model=model_qc, data_loaders=data_loaders, device=DEVICE, n_epochs=NB_EPOCH) \n",
        "    trainer_qc.train()\n",
        "    trainer_qc.save_model()\n",
        "    stats = trainer_qc.get_stats()\n",
        "    return stats, trainer_qc, data_loaders"
      ],
      "execution_count": 11,
      "outputs": []
    },
    {
      "cell_type": "code",
      "metadata": {
        "id": "JGxu9c_wsaj4",
        "colab": {
          "base_uri": "https://localhost:8080/",
          "height": 1000,
          "referenced_widgets": [
            "ebbb7cba7b544a7f8822f3260e099ae5",
            "d29d0f3b16e54633967d71432de6b6f6",
            "116ab9c3ae9b4770b865182e82d7b7ad",
            "d015ad57169046c0aaf2ccfbad5d5aa8",
            "12aacf76dbcd400580163475092ade1a",
            "2d564227489b4e15abf0684b1c54f37a",
            "1b1371082def4074ac82e08b96b820ff",
            "e22019097ccd482f81109df0cd818c66",
            "918ff989b2b140888afe1e75cd601dbf",
            "d2efd7bd9af34859a71144cf67c9403e",
            "7a88c5147dc54336a84392b6427d4f77",
            "6a45c100342342828b7714aac983e98e",
            "cd65427ef00341828191a6b0aa17d0c5",
            "046c7ac9ef904d3fa89c3959ac92e124",
            "46bebc20060c43aba4bb83cc2aa602a6",
            "f35c62b450314e33856d4c946128fe1d"
          ]
        },
        "outputId": "4e684eb1-d0da-45d1-9145-3f0be4f195fd"
      },
      "source": [
        "if __name__ == '__main__':\n",
        "    # Execute program and empty GPU cache\n",
        "    try:\n",
        "        stats_qc, trainer_qc, dldrs_qc = main_transfer(trainer_de)\n",
        "        print(\"Représentation du traitement des données\")\n",
        "        plot_loss_by_epoch(stats_qc[\"losses\"][\"train\"], stats_qc[\"losses\"][\"val\"], prefix=\"tf\")\n",
        "        plot_accuracy_by_epoch(stats_qc[\"accuracies\"][\"train\"], stats_qc[\"accuracies\"][\"val\"], prefix=\"tf\")\n",
        "\n",
        "        if IS_COLAB_ENV:\n",
        "            print(\"Sauvegade des images\")\n",
        "            # Only if in a Google Colab Environment\n",
        "            for img_name in glob(\"./tf_*.png\"):\n",
        "                files.download(img_name)\n",
        "        torch.cuda.empty_cache()\n",
        "    except BaseException as err:\n",
        "        torch.cuda.empty_cache()\n",
        "        raise err"
      ],
      "execution_count": 12,
      "outputs": [
        {
          "output_type": "stream",
          "text": [
            "Transfer Learning / Apprentissage par transfère\n"
          ],
          "name": "stdout"
        },
        {
          "output_type": "display_data",
          "data": {
            "application/vnd.jupyter.widget-view+json": {
              "model_id": "ebbb7cba7b544a7f8822f3260e099ae5",
              "version_minor": 0,
              "version_major": 2
            },
            "text/plain": [
              "HBox(children=(FloatProgress(value=0.0, description='Download Donnees_Quebec Dataset', max=19550.0, style=Prog…"
            ]
          },
          "metadata": {
            "tags": []
          }
        },
        {
          "output_type": "stream",
          "text": [
            "\n"
          ],
          "name": "stdout"
        },
        {
          "output_type": "display_data",
          "data": {
            "application/vnd.jupyter.widget-view+json": {
              "model_id": "918ff989b2b140888afe1e75cd601dbf",
              "version_minor": 0,
              "version_major": 2
            },
            "text/plain": [
              "HBox(children=(FloatProgress(value=0.0, description='Training...', max=75.0, style=ProgressStyle(description_w…"
            ]
          },
          "metadata": {
            "tags": []
          }
        },
        {
          "output_type": "stream",
          "text": [
            "\r\n",
            "Epoch  1/5\n",
            "-----------\n",
            " [-] Batch:   11, Train loss: 3.2301, Train accuracy: 14.6132%\n",
            " [-] Batch:    3,   Val loss: 3.0471,   Val accuracy: 17.3913%\n",
            "\n",
            "Epoch  2/5\n",
            "-----------\n",
            " [-] Batch:   11, Train loss: 2.2176, Train accuracy: 38.1089%\n",
            " [-] Batch:    3,   Val loss: 2.3394,   Val accuracy: 40.5797%\n",
            "\n",
            "Epoch  3/5\n",
            "-----------\n",
            " [-] Batch:   11, Train loss: 1.6470, Train accuracy: 62.4642%\n",
            " [-] Batch:    3,   Val loss: 2.0785,   Val accuracy: 55.0725%\n",
            "\n",
            "Epoch  4/5\n",
            "-----------\n",
            " [-] Batch:   11, Train loss: 1.3181, Train accuracy: 72.7794%\n",
            " [-] Batch:    3,   Val loss: 2.0494,   Val accuracy: 57.9710%\n",
            "\n",
            "Epoch  5/5\n",
            "-----------\n",
            " [-] Batch:   11, Train loss: 1.0915, Train accuracy: 78.7966%\n",
            " [-] Batch:    3,   Val loss: 1.2743,   Val accuracy: 69.5652%\n",
            "\n",
            "Saved model at models/ResNet_1608512462.0938218.plt\n",
            "Représentation du traitement des données\n"
          ],
          "name": "stdout"
        },
        {
          "output_type": "display_data",
          "data": {
            "image/png": "[encoded data removed]",
            "text/plain": [
              "<Figure size 1440x864 with 1 Axes>"
            ]
          },
          "metadata": {
            "tags": [],
            "needs_background": "light"
          }
        },
        {
          "output_type": "display_data",
          "data": {
            "image/png": "[encoded data removed]",
            "text/plain": [
              "<Figure size 1440x864 with 1 Axes>"
            ]
          },
          "metadata": {
            "tags": [],
            "needs_background": "light"
          }
        },
        {
          "output_type": "display_data",
          "data": {
            "application/javascript": [
              "\n",
              "    async function download(id, filename, size) {\n",
              "      if (!google.colab.kernel.accessAllowed) {\n",
              "        return;\n",
              "      }\n",
              "      const div = document.createElement('div');\n",
              "      const label = document.createElement('label');\n",
              "      label.textContent = `Downloading \"${filename}\": `;\n",
              "      div.appendChild(label);\n",
              "      const progress = document.createElement('progress');\n",
              "      progress.max = size;\n",
              "      div.appendChild(progress);\n",
              "      document.body.appendChild(div);\n",
              "\n",
              "      const buffers = [];\n",
              "      let downloaded = 0;\n",
              "\n",
              "      const channel = await google.colab.kernel.comms.open(id);\n",
              "      // Send a message to notify the kernel that we're ready.\n",
              "      channel.send({})\n",
              "\n",
              "      for await (const message of channel.messages) {\n",
              "        // Send a message to notify the kernel that we're ready.\n",
              "        channel.send({})\n",
              "        if (message.buffers) {\n",
              "          for (const buffer of message.buffers) {\n",
              "            buffers.push(buffer);\n",
              "            downloaded += buffer.byteLength;\n",
              "            progress.value = downloaded;\n",
              "          }\n",
              "        }\n",
              "      }\n",
              "      const blob = new Blob(buffers, {type: 'application/binary'});\n",
              "      const a = document.createElement('a');\n",
              "      a.href = window.URL.createObjectURL(blob);\n",
              "      a.download = filename;\n",
              "      div.appendChild(a);\n",
              "      a.click();\n",
              "      div.remove();\n",
              "    }\n",
              "  "
            ],
            "text/plain": [
              "<IPython.core.display.Javascript object>"
            ]
          },
          "metadata": {
            "tags": []
          }
        },
        {
          "output_type": "stream",
          "text": [
            "Sauvegade des images\n"
          ],
          "name": "stdout"
        },
        {
          "output_type": "display_data",
          "data": {
            "application/javascript": [
              "download(\"download_c496e155-f405-4a0e-84b8-7c31cd6059d6\", \"tf_plot_accuracy_by_epoch.png\", 51949)"
            ],
            "text/plain": [
              "<IPython.core.display.Javascript object>"
            ]
          },
          "metadata": {
            "tags": []
          }
        },
        {
          "output_type": "display_data",
          "data": {
            "application/javascript": [
              "\n",
              "    async function download(id, filename, size) {\n",
              "      if (!google.colab.kernel.accessAllowed) {\n",
              "        return;\n",
              "      }\n",
              "      const div = document.createElement('div');\n",
              "      const label = document.createElement('label');\n",
              "      label.textContent = `Downloading \"${filename}\": `;\n",
              "      div.appendChild(label);\n",
              "      const progress = document.createElement('progress');\n",
              "      progress.max = size;\n",
              "      div.appendChild(progress);\n",
              "      document.body.appendChild(div);\n",
              "\n",
              "      const buffers = [];\n",
              "      let downloaded = 0;\n",
              "\n",
              "      const channel = await google.colab.kernel.comms.open(id);\n",
              "      // Send a message to notify the kernel that we're ready.\n",
              "      channel.send({})\n",
              "\n",
              "      for await (const message of channel.messages) {\n",
              "        // Send a message to notify the kernel that we're ready.\n",
              "        channel.send({})\n",
              "        if (message.buffers) {\n",
              "          for (const buffer of message.buffers) {\n",
              "            buffers.push(buffer);\n",
              "            downloaded += buffer.byteLength;\n",
              "            progress.value = downloaded;\n",
              "          }\n",
              "        }\n",
              "      }\n",
              "      const blob = new Blob(buffers, {type: 'application/binary'});\n",
              "      const a = document.createElement('a');\n",
              "      a.href = window.URL.createObjectURL(blob);\n",
              "      a.download = filename;\n",
              "      div.appendChild(a);\n",
              "      a.click();\n",
              "      div.remove();\n",
              "    }\n",
              "  "
            ],
            "text/plain": [
              "<IPython.core.display.Javascript object>"
            ]
          },
          "metadata": {
            "tags": []
          }
        },
        {
          "output_type": "display_data",
          "data": {
            "application/javascript": [
              "download(\"download_6fe82d0b-3360-479b-9bac-63268469535f\", \"tf_plot_loss_by_epoch.png\", 49141)"
            ],
            "text/plain": [
              "<IPython.core.display.Javascript object>"
            ]
          },
          "metadata": {
            "tags": []
          }
        }
      ]
    },
    {
      "cell_type": "markdown",
      "metadata": {
        "id": "euhgkFQmqcjH"
      },
      "source": [
        "## Test sur réseau de neurones transféré avec données québécoises"
      ]
    },
    {
      "cell_type": "code",
      "metadata": {
        "id": "W4Wuqd0vqbGp"
      },
      "source": [
        "def quebec_network_test(trainer, data_loaders):\r\n",
        "    \"\"\"Quebec Network Test\r\n",
        "\r\n",
        "    Process Test with Quebec Model Network\r\n",
        "    \"\"\"\r\n",
        "    print(\"Test du réseau sur les données quebecoises\")\r\n",
        "    dev = trainer.device\r\n",
        "    qc_model = trainer.get_model().to(dev)\r\n",
        "\r\n",
        "    y_pred, y_test = predict(qc_model, data_loaders['test'], dev)\r\n",
        "    y_pred = y_pred.float()\r\n",
        "    y_test = y_test.float()\r\n",
        "    tf_report = precision_recall_fscore_support(y_test, y_pred)\r\n",
        "\r\n",
        "    return tf_report"
      ],
      "execution_count": 13,
      "outputs": []
    },
    {
      "cell_type": "code",
      "metadata": {
        "colab": {
          "base_uri": "https://localhost:8080/",
          "height": 1000
        },
        "id": "HFaYciybqm94",
        "outputId": "476ae9f6-eefa-4a3a-ca9b-542de818c946"
      },
      "source": [
        "if __name__ == '__main__':\r\n",
        "    # Execute program and empty GPU cache\r\n",
        "    try:\r\n",
        "        tf_report = quebec_network_test(trainer_qc, dldrs_qc)\r\n",
        "        print(pformat(tf_report))\r\n",
        "        report_vals = {k: v for k, v in zip((\"precision\", \"recall\", \"f-mesure\", \"support\"), tf_report)}\r\n",
        "        print(\"Représentation du traitement des données\")\r\n",
        "        for c in (\"precision\", \"recall\", \"f-mesure\"):\r\n",
        "            bar_plot_report(report_vals, c, transfer=True)\r\n",
        "        if IS_COLAB_ENV:\r\n",
        "            print(\"Sauvegarde des images\")\r\n",
        "            # Only if in a Google Colab Environment\r\n",
        "            for img_name in glob(\"./tf-*.png\"):\r\n",
        "                files.download(img_name)\r\n",
        "        torch.cuda.empty_cache()\r\n",
        "    except BaseException as err:\r\n",
        "        torch.cuda.empty_cache()\r\n",
        "        raise err"
      ],
      "execution_count": 14,
      "outputs": [
        {
          "output_type": "stream",
          "text": [
            "Test du réseau sur les données quebecoises\n"
          ],
          "name": "stdout"
        },
        {
          "output_type": "stream",
          "text": [
            "/usr/local/lib/python3.6/dist-packages/sklearn/metrics/_classification.py:1272: UndefinedMetricWarning: Precision and F-score are ill-defined and being set to 0.0 in labels with no predicted samples. Use `zero_division` parameter to control this behavior.\n",
            "  _warn_prf(average, modifier, msg_start, len(result))\n",
            "/usr/local/lib/python3.6/dist-packages/sklearn/metrics/_classification.py:1272: UndefinedMetricWarning: Recall and F-score are ill-defined and being set to 0.0 in labels with no true samples. Use `zero_division` parameter to control this behavior.\n",
            "  _warn_prf(average, modifier, msg_start, len(result))\n"
          ],
          "name": "stderr"
        },
        {
          "output_type": "stream",
          "text": [
            "(array([1.   , 0.625, 0.5  , 0.   , 0.75 , 0.   , 0.25 , 0.   , 0.   ,\n",
            "       0.   , 1.   , 1.   , 0.   , 0.   , 0.   , 0.   , 1.   , 0.75 ,\n",
            "       1.   , 0.   , 0.   ]),\n",
            " array([1., 1., 1., 0., 1., 0., 1., 0., 0., 0., 1., 1., 0., 0., 0., 0., 1.,\n",
            "       1., 1., 0., 0.]),\n",
            " array([1.        , 0.76923077, 0.66666667, 0.        , 0.85714286,\n",
            "       0.        , 0.4       , 0.        , 0.        , 0.        ,\n",
            "       1.        , 1.        , 0.        , 0.        , 0.        ,\n",
            "       0.        , 1.        , 0.85714286, 1.        , 0.        ,\n",
            "       0.        ]),\n",
            " array([10,  5,  2,  1,  3,  1,  1,  2,  2,  1,  7,  1,  1,  0,  1,  1,  2,\n",
            "        3,  2,  1,  1]))\n",
            "Représentation du traitement des données\n"
          ],
          "name": "stdout"
        },
        {
          "output_type": "display_data",
          "data": {
            "image/png": "[encoded data removed]",
            "text/plain": [
              "<Figure size 1440x864 with 2 Axes>"
            ]
          },
          "metadata": {
            "tags": [],
            "needs_background": "light"
          }
        },
        {
          "output_type": "display_data",
          "data": {
            "image/png": "[encoded data removed]",
            "text/plain": [
              "<Figure size 1440x864 with 2 Axes>"
            ]
          },
          "metadata": {
            "tags": [],
            "needs_background": "light"
          }
        },
        {
          "output_type": "display_data",
          "data": {
            "image/png": "[encoded data removed]",
            "text/plain": [
              "<Figure size 1440x864 with 2 Axes>"
            ]
          },
          "metadata": {
            "tags": [],
            "needs_background": "light"
          }
        },
        {
          "output_type": "stream",
          "text": [
            "Sauvegarde des images\n"
          ],
          "name": "stdout"
        },
        {
          "output_type": "display_data",
          "data": {
            "application/javascript": [
              "\n",
              "    async function download(id, filename, size) {\n",
              "      if (!google.colab.kernel.accessAllowed) {\n",
              "        return;\n",
              "      }\n",
              "      const div = document.createElement('div');\n",
              "      const label = document.createElement('label');\n",
              "      label.textContent = `Downloading \"${filename}\": `;\n",
              "      div.appendChild(label);\n",
              "      const progress = document.createElement('progress');\n",
              "      progress.max = size;\n",
              "      div.appendChild(progress);\n",
              "      document.body.appendChild(div);\n",
              "\n",
              "      const buffers = [];\n",
              "      let downloaded = 0;\n",
              "\n",
              "      const channel = await google.colab.kernel.comms.open(id);\n",
              "      // Send a message to notify the kernel that we're ready.\n",
              "      channel.send({})\n",
              "\n",
              "      for await (const message of channel.messages) {\n",
              "        // Send a message to notify the kernel that we're ready.\n",
              "        channel.send({})\n",
              "        if (message.buffers) {\n",
              "          for (const buffer of message.buffers) {\n",
              "            buffers.push(buffer);\n",
              "            downloaded += buffer.byteLength;\n",
              "            progress.value = downloaded;\n",
              "          }\n",
              "        }\n",
              "      }\n",
              "      const blob = new Blob(buffers, {type: 'application/binary'});\n",
              "      const a = document.createElement('a');\n",
              "      a.href = window.URL.createObjectURL(blob);\n",
              "      a.download = filename;\n",
              "      div.appendChild(a);\n",
              "      a.click();\n",
              "      div.remove();\n",
              "    }\n",
              "  "
            ],
            "text/plain": [
              "<IPython.core.display.Javascript object>"
            ]
          },
          "metadata": {
            "tags": []
          }
        },
        {
          "output_type": "display_data",
          "data": {
            "application/javascript": [
              "download(\"download_89beeb09-36b1-4e56-8c9e-4cdeaf73a6ab\", \"tf-report-precision-bar.png\", 33894)"
            ],
            "text/plain": [
              "<IPython.core.display.Javascript object>"
            ]
          },
          "metadata": {
            "tags": []
          }
        },
        {
          "output_type": "display_data",
          "data": {
            "application/javascript": [
              "\n",
              "    async function download(id, filename, size) {\n",
              "      if (!google.colab.kernel.accessAllowed) {\n",
              "        return;\n",
              "      }\n",
              "      const div = document.createElement('div');\n",
              "      const label = document.createElement('label');\n",
              "      label.textContent = `Downloading \"${filename}\": `;\n",
              "      div.appendChild(label);\n",
              "      const progress = document.createElement('progress');\n",
              "      progress.max = size;\n",
              "      div.appendChild(progress);\n",
              "      document.body.appendChild(div);\n",
              "\n",
              "      const buffers = [];\n",
              "      let downloaded = 0;\n",
              "\n",
              "      const channel = await google.colab.kernel.comms.open(id);\n",
              "      // Send a message to notify the kernel that we're ready.\n",
              "      channel.send({})\n",
              "\n",
              "      for await (const message of channel.messages) {\n",
              "        // Send a message to notify the kernel that we're ready.\n",
              "        channel.send({})\n",
              "        if (message.buffers) {\n",
              "          for (const buffer of message.buffers) {\n",
              "            buffers.push(buffer);\n",
              "            downloaded += buffer.byteLength;\n",
              "            progress.value = downloaded;\n",
              "          }\n",
              "        }\n",
              "      }\n",
              "      const blob = new Blob(buffers, {type: 'application/binary'});\n",
              "      const a = document.createElement('a');\n",
              "      a.href = window.URL.createObjectURL(blob);\n",
              "      a.download = filename;\n",
              "      div.appendChild(a);\n",
              "      a.click();\n",
              "      div.remove();\n",
              "    }\n",
              "  "
            ],
            "text/plain": [
              "<IPython.core.display.Javascript object>"
            ]
          },
          "metadata": {
            "tags": []
          }
        },
        {
          "output_type": "display_data",
          "data": {
            "application/javascript": [
              "download(\"download_ecf4794a-b634-4486-ad6a-cd34cdc512fd\", \"tf-report-f-mesure-bar.png\", 33676)"
            ],
            "text/plain": [
              "<IPython.core.display.Javascript object>"
            ]
          },
          "metadata": {
            "tags": []
          }
        },
        {
          "output_type": "display_data",
          "data": {
            "application/javascript": [
              "\n",
              "    async function download(id, filename, size) {\n",
              "      if (!google.colab.kernel.accessAllowed) {\n",
              "        return;\n",
              "      }\n",
              "      const div = document.createElement('div');\n",
              "      const label = document.createElement('label');\n",
              "      label.textContent = `Downloading \"${filename}\": `;\n",
              "      div.appendChild(label);\n",
              "      const progress = document.createElement('progress');\n",
              "      progress.max = size;\n",
              "      div.appendChild(progress);\n",
              "      document.body.appendChild(div);\n",
              "\n",
              "      const buffers = [];\n",
              "      let downloaded = 0;\n",
              "\n",
              "      const channel = await google.colab.kernel.comms.open(id);\n",
              "      // Send a message to notify the kernel that we're ready.\n",
              "      channel.send({})\n",
              "\n",
              "      for await (const message of channel.messages) {\n",
              "        // Send a message to notify the kernel that we're ready.\n",
              "        channel.send({})\n",
              "        if (message.buffers) {\n",
              "          for (const buffer of message.buffers) {\n",
              "            buffers.push(buffer);\n",
              "            downloaded += buffer.byteLength;\n",
              "            progress.value = downloaded;\n",
              "          }\n",
              "        }\n",
              "      }\n",
              "      const blob = new Blob(buffers, {type: 'application/binary'});\n",
              "      const a = document.createElement('a');\n",
              "      a.href = window.URL.createObjectURL(blob);\n",
              "      a.download = filename;\n",
              "      div.appendChild(a);\n",
              "      a.click();\n",
              "      div.remove();\n",
              "    }\n",
              "  "
            ],
            "text/plain": [
              "<IPython.core.display.Javascript object>"
            ]
          },
          "metadata": {
            "tags": []
          }
        },
        {
          "output_type": "display_data",
          "data": {
            "application/javascript": [
              "download(\"download_8c4b9397-4698-4c7c-a167-8c18e76e8928\", \"tf-report-recall-bar.png\", 33028)"
            ],
            "text/plain": [
              "<IPython.core.display.Javascript object>"
            ]
          },
          "metadata": {
            "tags": []
          }
        }
      ]
    }
  ]
}